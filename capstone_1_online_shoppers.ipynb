{
  "nbformat": 4,
  "nbformat_minor": 0,
  "metadata": {
    "colab": {
      "provenance": []
    },
    "kernelspec": {
      "name": "python3",
      "display_name": "Python 3"
    },
    "language_info": {
      "name": "python"
    }
  },
  "cells": [
    {
      "cell_type": "markdown",
      "source": [
        "### Import Libraries"
      ],
      "metadata": {
        "id": "14TBroqovqXc"
      }
    },
    {
      "cell_type": "code",
      "source": [
        "import pandas as pd\n",
        "import numpy as np\n",
        "import seaborn as sns\n",
        "from matplotlib import pyplot as plt\n",
        "from sklearn.model_selection import train_test_split\n",
        "from sklearn.metrics import roc_auc_score\n",
        "from sklearn.tree import export_text\n",
        "from sklearn.feature_extraction import DictVectorizer\n",
        "from sklearn.tree import DecisionTreeClassifier\n",
        "from sklearn.ensemble import RandomForestClassifier\n",
        "from sklearn.linear_model import LogisticRegression\n",
        "from sklearn.svm import LinearSVC\n",
        "from sklearn.linear_model import SGDClassifier\n",
        "import xgboost as xgb\n",
        "from google.colab import drive"
      ],
      "metadata": {
        "id": "fAndNE2Fvx8d"
      },
      "execution_count": null,
      "outputs": []
    },
    {
      "cell_type": "markdown",
      "source": [
        "### Mount Google Drive"
      ],
      "metadata": {
        "id": "d51-VhSzxv-G"
      }
    },
    {
      "cell_type": "code",
      "source": [
        "drive.mount('/content/drive')"
      ],
      "metadata": {
        "colab": {
          "base_uri": "https://localhost:8080/"
        },
        "id": "_9xRoiJQx2-R",
        "outputId": "4f2174db-da2d-4bee-84ad-79b0ac2ab8cc"
      },
      "execution_count": null,
      "outputs": [
        {
          "output_type": "stream",
          "name": "stdout",
          "text": [
            "Drive already mounted at /content/drive; to attempt to forcibly remount, call drive.mount(\"/content/drive\", force_remount=True).\n"
          ]
        }
      ]
    },
    {
      "cell_type": "markdown",
      "source": [
        "### Read the data"
      ],
      "metadata": {
        "id": "fvADqtbawEjd"
      }
    },
    {
      "cell_type": "code",
      "source": [
        "file_path = '/content/drive/MyDrive/Colab Notebooks/capstone_1_online_shoppers/online_shoppers_intention.csv'\n",
        "df = pd.read_csv(file_path)"
      ],
      "metadata": {
        "id": "ElPAqgcawuGP"
      },
      "execution_count": null,
      "outputs": []
    },
    {
      "cell_type": "markdown",
      "source": [
        "# First look"
      ],
      "metadata": {
        "id": "J2GSo3FnzCeD"
      }
    },
    {
      "cell_type": "code",
      "source": [
        "df.head()"
      ],
      "metadata": {
        "colab": {
          "base_uri": "https://localhost:8080/",
          "height": 226
        },
        "id": "HtbniOHKzGY2",
        "outputId": "585e5599-6211-401a-90c6-78debbaa13a2"
      },
      "execution_count": null,
      "outputs": [
        {
          "output_type": "execute_result",
          "data": {
            "text/plain": [
              "   Administrative  Administrative_Duration  Informational  \\\n",
              "0               0                      0.0              0   \n",
              "1               0                      0.0              0   \n",
              "2               0                      0.0              0   \n",
              "3               0                      0.0              0   \n",
              "4               0                      0.0              0   \n",
              "\n",
              "   Informational_Duration  ProductRelated  ProductRelated_Duration  \\\n",
              "0                     0.0               1                 0.000000   \n",
              "1                     0.0               2                64.000000   \n",
              "2                     0.0               1                 0.000000   \n",
              "3                     0.0               2                 2.666667   \n",
              "4                     0.0              10               627.500000   \n",
              "\n",
              "   BounceRates  ExitRates  PageValues  SpecialDay Month  OperatingSystems  \\\n",
              "0         0.20       0.20         0.0         0.0   Feb                 1   \n",
              "1         0.00       0.10         0.0         0.0   Feb                 2   \n",
              "2         0.20       0.20         0.0         0.0   Feb                 4   \n",
              "3         0.05       0.14         0.0         0.0   Feb                 3   \n",
              "4         0.02       0.05         0.0         0.0   Feb                 3   \n",
              "\n",
              "   Browser  Region  TrafficType        VisitorType  Weekend  Revenue  \n",
              "0        1       1            1  Returning_Visitor    False    False  \n",
              "1        2       1            2  Returning_Visitor    False    False  \n",
              "2        1       9            3  Returning_Visitor    False    False  \n",
              "3        2       2            4  Returning_Visitor    False    False  \n",
              "4        3       1            4  Returning_Visitor     True    False  "
            ],
            "text/html": [
              "\n",
              "  <div id=\"df-f3050231-3174-4e16-a6a1-954a2ec4b3b0\" class=\"colab-df-container\">\n",
              "    <div>\n",
              "<style scoped>\n",
              "    .dataframe tbody tr th:only-of-type {\n",
              "        vertical-align: middle;\n",
              "    }\n",
              "\n",
              "    .dataframe tbody tr th {\n",
              "        vertical-align: top;\n",
              "    }\n",
              "\n",
              "    .dataframe thead th {\n",
              "        text-align: right;\n",
              "    }\n",
              "</style>\n",
              "<table border=\"1\" class=\"dataframe\">\n",
              "  <thead>\n",
              "    <tr style=\"text-align: right;\">\n",
              "      <th></th>\n",
              "      <th>Administrative</th>\n",
              "      <th>Administrative_Duration</th>\n",
              "      <th>Informational</th>\n",
              "      <th>Informational_Duration</th>\n",
              "      <th>ProductRelated</th>\n",
              "      <th>ProductRelated_Duration</th>\n",
              "      <th>BounceRates</th>\n",
              "      <th>ExitRates</th>\n",
              "      <th>PageValues</th>\n",
              "      <th>SpecialDay</th>\n",
              "      <th>Month</th>\n",
              "      <th>OperatingSystems</th>\n",
              "      <th>Browser</th>\n",
              "      <th>Region</th>\n",
              "      <th>TrafficType</th>\n",
              "      <th>VisitorType</th>\n",
              "      <th>Weekend</th>\n",
              "      <th>Revenue</th>\n",
              "    </tr>\n",
              "  </thead>\n",
              "  <tbody>\n",
              "    <tr>\n",
              "      <th>0</th>\n",
              "      <td>0</td>\n",
              "      <td>0.0</td>\n",
              "      <td>0</td>\n",
              "      <td>0.0</td>\n",
              "      <td>1</td>\n",
              "      <td>0.000000</td>\n",
              "      <td>0.20</td>\n",
              "      <td>0.20</td>\n",
              "      <td>0.0</td>\n",
              "      <td>0.0</td>\n",
              "      <td>Feb</td>\n",
              "      <td>1</td>\n",
              "      <td>1</td>\n",
              "      <td>1</td>\n",
              "      <td>1</td>\n",
              "      <td>Returning_Visitor</td>\n",
              "      <td>False</td>\n",
              "      <td>False</td>\n",
              "    </tr>\n",
              "    <tr>\n",
              "      <th>1</th>\n",
              "      <td>0</td>\n",
              "      <td>0.0</td>\n",
              "      <td>0</td>\n",
              "      <td>0.0</td>\n",
              "      <td>2</td>\n",
              "      <td>64.000000</td>\n",
              "      <td>0.00</td>\n",
              "      <td>0.10</td>\n",
              "      <td>0.0</td>\n",
              "      <td>0.0</td>\n",
              "      <td>Feb</td>\n",
              "      <td>2</td>\n",
              "      <td>2</td>\n",
              "      <td>1</td>\n",
              "      <td>2</td>\n",
              "      <td>Returning_Visitor</td>\n",
              "      <td>False</td>\n",
              "      <td>False</td>\n",
              "    </tr>\n",
              "    <tr>\n",
              "      <th>2</th>\n",
              "      <td>0</td>\n",
              "      <td>0.0</td>\n",
              "      <td>0</td>\n",
              "      <td>0.0</td>\n",
              "      <td>1</td>\n",
              "      <td>0.000000</td>\n",
              "      <td>0.20</td>\n",
              "      <td>0.20</td>\n",
              "      <td>0.0</td>\n",
              "      <td>0.0</td>\n",
              "      <td>Feb</td>\n",
              "      <td>4</td>\n",
              "      <td>1</td>\n",
              "      <td>9</td>\n",
              "      <td>3</td>\n",
              "      <td>Returning_Visitor</td>\n",
              "      <td>False</td>\n",
              "      <td>False</td>\n",
              "    </tr>\n",
              "    <tr>\n",
              "      <th>3</th>\n",
              "      <td>0</td>\n",
              "      <td>0.0</td>\n",
              "      <td>0</td>\n",
              "      <td>0.0</td>\n",
              "      <td>2</td>\n",
              "      <td>2.666667</td>\n",
              "      <td>0.05</td>\n",
              "      <td>0.14</td>\n",
              "      <td>0.0</td>\n",
              "      <td>0.0</td>\n",
              "      <td>Feb</td>\n",
              "      <td>3</td>\n",
              "      <td>2</td>\n",
              "      <td>2</td>\n",
              "      <td>4</td>\n",
              "      <td>Returning_Visitor</td>\n",
              "      <td>False</td>\n",
              "      <td>False</td>\n",
              "    </tr>\n",
              "    <tr>\n",
              "      <th>4</th>\n",
              "      <td>0</td>\n",
              "      <td>0.0</td>\n",
              "      <td>0</td>\n",
              "      <td>0.0</td>\n",
              "      <td>10</td>\n",
              "      <td>627.500000</td>\n",
              "      <td>0.02</td>\n",
              "      <td>0.05</td>\n",
              "      <td>0.0</td>\n",
              "      <td>0.0</td>\n",
              "      <td>Feb</td>\n",
              "      <td>3</td>\n",
              "      <td>3</td>\n",
              "      <td>1</td>\n",
              "      <td>4</td>\n",
              "      <td>Returning_Visitor</td>\n",
              "      <td>True</td>\n",
              "      <td>False</td>\n",
              "    </tr>\n",
              "  </tbody>\n",
              "</table>\n",
              "</div>\n",
              "    <div class=\"colab-df-buttons\">\n",
              "\n",
              "  <div class=\"colab-df-container\">\n",
              "    <button class=\"colab-df-convert\" onclick=\"convertToInteractive('df-f3050231-3174-4e16-a6a1-954a2ec4b3b0')\"\n",
              "            title=\"Convert this dataframe to an interactive table.\"\n",
              "            style=\"display:none;\">\n",
              "\n",
              "  <svg xmlns=\"http://www.w3.org/2000/svg\" height=\"24px\" viewBox=\"0 -960 960 960\">\n",
              "    <path d=\"M120-120v-720h720v720H120Zm60-500h600v-160H180v160Zm220 220h160v-160H400v160Zm0 220h160v-160H400v160ZM180-400h160v-160H180v160Zm440 0h160v-160H620v160ZM180-180h160v-160H180v160Zm440 0h160v-160H620v160Z\"/>\n",
              "  </svg>\n",
              "    </button>\n",
              "\n",
              "  <style>\n",
              "    .colab-df-container {\n",
              "      display:flex;\n",
              "      gap: 12px;\n",
              "    }\n",
              "\n",
              "    .colab-df-convert {\n",
              "      background-color: #E8F0FE;\n",
              "      border: none;\n",
              "      border-radius: 50%;\n",
              "      cursor: pointer;\n",
              "      display: none;\n",
              "      fill: #1967D2;\n",
              "      height: 32px;\n",
              "      padding: 0 0 0 0;\n",
              "      width: 32px;\n",
              "    }\n",
              "\n",
              "    .colab-df-convert:hover {\n",
              "      background-color: #E2EBFA;\n",
              "      box-shadow: 0px 1px 2px rgba(60, 64, 67, 0.3), 0px 1px 3px 1px rgba(60, 64, 67, 0.15);\n",
              "      fill: #174EA6;\n",
              "    }\n",
              "\n",
              "    .colab-df-buttons div {\n",
              "      margin-bottom: 4px;\n",
              "    }\n",
              "\n",
              "    [theme=dark] .colab-df-convert {\n",
              "      background-color: #3B4455;\n",
              "      fill: #D2E3FC;\n",
              "    }\n",
              "\n",
              "    [theme=dark] .colab-df-convert:hover {\n",
              "      background-color: #434B5C;\n",
              "      box-shadow: 0px 1px 3px 1px rgba(0, 0, 0, 0.15);\n",
              "      filter: drop-shadow(0px 1px 2px rgba(0, 0, 0, 0.3));\n",
              "      fill: #FFFFFF;\n",
              "    }\n",
              "  </style>\n",
              "\n",
              "    <script>\n",
              "      const buttonEl =\n",
              "        document.querySelector('#df-f3050231-3174-4e16-a6a1-954a2ec4b3b0 button.colab-df-convert');\n",
              "      buttonEl.style.display =\n",
              "        google.colab.kernel.accessAllowed ? 'block' : 'none';\n",
              "\n",
              "      async function convertToInteractive(key) {\n",
              "        const element = document.querySelector('#df-f3050231-3174-4e16-a6a1-954a2ec4b3b0');\n",
              "        const dataTable =\n",
              "          await google.colab.kernel.invokeFunction('convertToInteractive',\n",
              "                                                    [key], {});\n",
              "        if (!dataTable) return;\n",
              "\n",
              "        const docLinkHtml = 'Like what you see? Visit the ' +\n",
              "          '<a target=\"_blank\" href=https://colab.research.google.com/notebooks/data_table.ipynb>data table notebook</a>'\n",
              "          + ' to learn more about interactive tables.';\n",
              "        element.innerHTML = '';\n",
              "        dataTable['output_type'] = 'display_data';\n",
              "        await google.colab.output.renderOutput(dataTable, element);\n",
              "        const docLink = document.createElement('div');\n",
              "        docLink.innerHTML = docLinkHtml;\n",
              "        element.appendChild(docLink);\n",
              "      }\n",
              "    </script>\n",
              "  </div>\n",
              "\n",
              "\n",
              "<div id=\"df-828f9564-f6d2-4de4-8b4a-42da818a9ab6\">\n",
              "  <button class=\"colab-df-quickchart\" onclick=\"quickchart('df-828f9564-f6d2-4de4-8b4a-42da818a9ab6')\"\n",
              "            title=\"Suggest charts\"\n",
              "            style=\"display:none;\">\n",
              "\n",
              "<svg xmlns=\"http://www.w3.org/2000/svg\" height=\"24px\"viewBox=\"0 0 24 24\"\n",
              "     width=\"24px\">\n",
              "    <g>\n",
              "        <path d=\"M19 3H5c-1.1 0-2 .9-2 2v14c0 1.1.9 2 2 2h14c1.1 0 2-.9 2-2V5c0-1.1-.9-2-2-2zM9 17H7v-7h2v7zm4 0h-2V7h2v10zm4 0h-2v-4h2v4z\"/>\n",
              "    </g>\n",
              "</svg>\n",
              "  </button>\n",
              "\n",
              "<style>\n",
              "  .colab-df-quickchart {\n",
              "      --bg-color: #E8F0FE;\n",
              "      --fill-color: #1967D2;\n",
              "      --hover-bg-color: #E2EBFA;\n",
              "      --hover-fill-color: #174EA6;\n",
              "      --disabled-fill-color: #AAA;\n",
              "      --disabled-bg-color: #DDD;\n",
              "  }\n",
              "\n",
              "  [theme=dark] .colab-df-quickchart {\n",
              "      --bg-color: #3B4455;\n",
              "      --fill-color: #D2E3FC;\n",
              "      --hover-bg-color: #434B5C;\n",
              "      --hover-fill-color: #FFFFFF;\n",
              "      --disabled-bg-color: #3B4455;\n",
              "      --disabled-fill-color: #666;\n",
              "  }\n",
              "\n",
              "  .colab-df-quickchart {\n",
              "    background-color: var(--bg-color);\n",
              "    border: none;\n",
              "    border-radius: 50%;\n",
              "    cursor: pointer;\n",
              "    display: none;\n",
              "    fill: var(--fill-color);\n",
              "    height: 32px;\n",
              "    padding: 0;\n",
              "    width: 32px;\n",
              "  }\n",
              "\n",
              "  .colab-df-quickchart:hover {\n",
              "    background-color: var(--hover-bg-color);\n",
              "    box-shadow: 0 1px 2px rgba(60, 64, 67, 0.3), 0 1px 3px 1px rgba(60, 64, 67, 0.15);\n",
              "    fill: var(--button-hover-fill-color);\n",
              "  }\n",
              "\n",
              "  .colab-df-quickchart-complete:disabled,\n",
              "  .colab-df-quickchart-complete:disabled:hover {\n",
              "    background-color: var(--disabled-bg-color);\n",
              "    fill: var(--disabled-fill-color);\n",
              "    box-shadow: none;\n",
              "  }\n",
              "\n",
              "  .colab-df-spinner {\n",
              "    border: 2px solid var(--fill-color);\n",
              "    border-color: transparent;\n",
              "    border-bottom-color: var(--fill-color);\n",
              "    animation:\n",
              "      spin 1s steps(1) infinite;\n",
              "  }\n",
              "\n",
              "  @keyframes spin {\n",
              "    0% {\n",
              "      border-color: transparent;\n",
              "      border-bottom-color: var(--fill-color);\n",
              "      border-left-color: var(--fill-color);\n",
              "    }\n",
              "    20% {\n",
              "      border-color: transparent;\n",
              "      border-left-color: var(--fill-color);\n",
              "      border-top-color: var(--fill-color);\n",
              "    }\n",
              "    30% {\n",
              "      border-color: transparent;\n",
              "      border-left-color: var(--fill-color);\n",
              "      border-top-color: var(--fill-color);\n",
              "      border-right-color: var(--fill-color);\n",
              "    }\n",
              "    40% {\n",
              "      border-color: transparent;\n",
              "      border-right-color: var(--fill-color);\n",
              "      border-top-color: var(--fill-color);\n",
              "    }\n",
              "    60% {\n",
              "      border-color: transparent;\n",
              "      border-right-color: var(--fill-color);\n",
              "    }\n",
              "    80% {\n",
              "      border-color: transparent;\n",
              "      border-right-color: var(--fill-color);\n",
              "      border-bottom-color: var(--fill-color);\n",
              "    }\n",
              "    90% {\n",
              "      border-color: transparent;\n",
              "      border-bottom-color: var(--fill-color);\n",
              "    }\n",
              "  }\n",
              "</style>\n",
              "\n",
              "  <script>\n",
              "    async function quickchart(key) {\n",
              "      const quickchartButtonEl =\n",
              "        document.querySelector('#' + key + ' button');\n",
              "      quickchartButtonEl.disabled = true;  // To prevent multiple clicks.\n",
              "      quickchartButtonEl.classList.add('colab-df-spinner');\n",
              "      try {\n",
              "        const charts = await google.colab.kernel.invokeFunction(\n",
              "            'suggestCharts', [key], {});\n",
              "      } catch (error) {\n",
              "        console.error('Error during call to suggestCharts:', error);\n",
              "      }\n",
              "      quickchartButtonEl.classList.remove('colab-df-spinner');\n",
              "      quickchartButtonEl.classList.add('colab-df-quickchart-complete');\n",
              "    }\n",
              "    (() => {\n",
              "      let quickchartButtonEl =\n",
              "        document.querySelector('#df-828f9564-f6d2-4de4-8b4a-42da818a9ab6 button');\n",
              "      quickchartButtonEl.style.display =\n",
              "        google.colab.kernel.accessAllowed ? 'block' : 'none';\n",
              "    })();\n",
              "  </script>\n",
              "</div>\n",
              "    </div>\n",
              "  </div>\n"
            ],
            "application/vnd.google.colaboratory.intrinsic+json": {
              "type": "dataframe",
              "variable_name": "df",
              "summary": "{\n  \"name\": \"df\",\n  \"rows\": 12330,\n  \"fields\": [\n    {\n      \"column\": \"Administrative\",\n      \"properties\": {\n        \"dtype\": \"number\",\n        \"std\": 3,\n        \"min\": 0,\n        \"max\": 27,\n        \"num_unique_values\": 27,\n        \"samples\": [\n          5,\n          11,\n          9\n        ],\n        \"semantic_type\": \"\",\n        \"description\": \"\"\n      }\n    },\n    {\n      \"column\": \"Administrative_Duration\",\n      \"properties\": {\n        \"dtype\": \"number\",\n        \"std\": 176.77910747048236,\n        \"min\": 0.0,\n        \"max\": 3398.75,\n        \"num_unique_values\": 3335,\n        \"samples\": [\n          93.6,\n          63.08333333,\n          351.0833333\n        ],\n        \"semantic_type\": \"\",\n        \"description\": \"\"\n      }\n    },\n    {\n      \"column\": \"Informational\",\n      \"properties\": {\n        \"dtype\": \"number\",\n        \"std\": 1,\n        \"min\": 0,\n        \"max\": 24,\n        \"num_unique_values\": 17,\n        \"samples\": [\n          0,\n          1,\n          5\n        ],\n        \"semantic_type\": \"\",\n        \"description\": \"\"\n      }\n    },\n    {\n      \"column\": \"Informational_Duration\",\n      \"properties\": {\n        \"dtype\": \"number\",\n        \"std\": 140.74929442219084,\n        \"min\": 0.0,\n        \"max\": 2549.375,\n        \"num_unique_values\": 1258,\n        \"samples\": [\n          793.8,\n          50.0,\n          57.0\n        ],\n        \"semantic_type\": \"\",\n        \"description\": \"\"\n      }\n    },\n    {\n      \"column\": \"ProductRelated\",\n      \"properties\": {\n        \"dtype\": \"number\",\n        \"std\": 44,\n        \"min\": 0,\n        \"max\": 705,\n        \"num_unique_values\": 311,\n        \"samples\": [\n          330,\n          23,\n          54\n        ],\n        \"semantic_type\": \"\",\n        \"description\": \"\"\n      }\n    },\n    {\n      \"column\": \"ProductRelated_Duration\",\n      \"properties\": {\n        \"dtype\": \"number\",\n        \"std\": 1913.6692878719944,\n        \"min\": 0.0,\n        \"max\": 63973.52223,\n        \"num_unique_values\": 9551,\n        \"samples\": [\n          225.68,\n          232.6666667,\n          2834.280117\n        ],\n        \"semantic_type\": \"\",\n        \"description\": \"\"\n      }\n    },\n    {\n      \"column\": \"BounceRates\",\n      \"properties\": {\n        \"dtype\": \"number\",\n        \"std\": 0.04848832180626314,\n        \"min\": 0.0,\n        \"max\": 0.2,\n        \"num_unique_values\": 1872,\n        \"samples\": [\n          0.004778942,\n          0.010793651,\n          0.005073996\n        ],\n        \"semantic_type\": \"\",\n        \"description\": \"\"\n      }\n    },\n    {\n      \"column\": \"ExitRates\",\n      \"properties\": {\n        \"dtype\": \"number\",\n        \"std\": 0.04859654055144408,\n        \"min\": 0.0,\n        \"max\": 0.2,\n        \"num_unique_values\": 4777,\n        \"samples\": [\n          0.120833333,\n          0.006857143,\n          0.008914729\n        ],\n        \"semantic_type\": \"\",\n        \"description\": \"\"\n      }\n    },\n    {\n      \"column\": \"PageValues\",\n      \"properties\": {\n        \"dtype\": \"number\",\n        \"std\": 18.56843660780723,\n        \"min\": 0.0,\n        \"max\": 361.7637419,\n        \"num_unique_values\": 2704,\n        \"samples\": [\n          54.65714872,\n          20.97239726,\n          11.65996434\n        ],\n        \"semantic_type\": \"\",\n        \"description\": \"\"\n      }\n    },\n    {\n      \"column\": \"SpecialDay\",\n      \"properties\": {\n        \"dtype\": \"number\",\n        \"std\": 0.19891727315262578,\n        \"min\": 0.0,\n        \"max\": 1.0,\n        \"num_unique_values\": 6,\n        \"samples\": [\n          0.0,\n          0.4,\n          0.6\n        ],\n        \"semantic_type\": \"\",\n        \"description\": \"\"\n      }\n    },\n    {\n      \"column\": \"Month\",\n      \"properties\": {\n        \"dtype\": \"category\",\n        \"num_unique_values\": 10,\n        \"samples\": [\n          \"Sep\",\n          \"Mar\",\n          \"Jul\"\n        ],\n        \"semantic_type\": \"\",\n        \"description\": \"\"\n      }\n    },\n    {\n      \"column\": \"OperatingSystems\",\n      \"properties\": {\n        \"dtype\": \"number\",\n        \"std\": 0,\n        \"min\": 1,\n        \"max\": 8,\n        \"num_unique_values\": 8,\n        \"samples\": [\n          2,\n          6,\n          1\n        ],\n        \"semantic_type\": \"\",\n        \"description\": \"\"\n      }\n    },\n    {\n      \"column\": \"Browser\",\n      \"properties\": {\n        \"dtype\": \"number\",\n        \"std\": 1,\n        \"min\": 1,\n        \"max\": 13,\n        \"num_unique_values\": 13,\n        \"samples\": [\n          13,\n          9,\n          1\n        ],\n        \"semantic_type\": \"\",\n        \"description\": \"\"\n      }\n    },\n    {\n      \"column\": \"Region\",\n      \"properties\": {\n        \"dtype\": \"number\",\n        \"std\": 2,\n        \"min\": 1,\n        \"max\": 9,\n        \"num_unique_values\": 9,\n        \"samples\": [\n          7,\n          9,\n          5\n        ],\n        \"semantic_type\": \"\",\n        \"description\": \"\"\n      }\n    },\n    {\n      \"column\": \"TrafficType\",\n      \"properties\": {\n        \"dtype\": \"number\",\n        \"std\": 4,\n        \"min\": 1,\n        \"max\": 20,\n        \"num_unique_values\": 20,\n        \"samples\": [\n          1,\n          16,\n          18\n        ],\n        \"semantic_type\": \"\",\n        \"description\": \"\"\n      }\n    },\n    {\n      \"column\": \"VisitorType\",\n      \"properties\": {\n        \"dtype\": \"category\",\n        \"num_unique_values\": 3,\n        \"samples\": [\n          \"Returning_Visitor\",\n          \"New_Visitor\",\n          \"Other\"\n        ],\n        \"semantic_type\": \"\",\n        \"description\": \"\"\n      }\n    },\n    {\n      \"column\": \"Weekend\",\n      \"properties\": {\n        \"dtype\": \"boolean\",\n        \"num_unique_values\": 2,\n        \"samples\": [\n          true,\n          false\n        ],\n        \"semantic_type\": \"\",\n        \"description\": \"\"\n      }\n    },\n    {\n      \"column\": \"Revenue\",\n      \"properties\": {\n        \"dtype\": \"boolean\",\n        \"num_unique_values\": 2,\n        \"samples\": [\n          true,\n          false\n        ],\n        \"semantic_type\": \"\",\n        \"description\": \"\"\n      }\n    }\n  ]\n}"
            }
          },
          "metadata": {},
          "execution_count": 108
        }
      ]
    },
    {
      "cell_type": "code",
      "source": [
        "df.describe()"
      ],
      "metadata": {
        "colab": {
          "base_uri": "https://localhost:8080/",
          "height": 320
        },
        "id": "NimlFa1HzPTh",
        "outputId": "aa500834-153f-4b1a-d973-40bc148897f3"
      },
      "execution_count": null,
      "outputs": [
        {
          "output_type": "execute_result",
          "data": {
            "text/plain": [
              "       Administrative  Administrative_Duration  Informational  \\\n",
              "count    12330.000000             12330.000000   12330.000000   \n",
              "mean         2.315166                80.818611       0.503569   \n",
              "std          3.321784               176.779107       1.270156   \n",
              "min          0.000000                 0.000000       0.000000   \n",
              "25%          0.000000                 0.000000       0.000000   \n",
              "50%          1.000000                 7.500000       0.000000   \n",
              "75%          4.000000                93.256250       0.000000   \n",
              "max         27.000000              3398.750000      24.000000   \n",
              "\n",
              "       Informational_Duration  ProductRelated  ProductRelated_Duration  \\\n",
              "count            12330.000000    12330.000000             12330.000000   \n",
              "mean                34.472398       31.731468              1194.746220   \n",
              "std                140.749294       44.475503              1913.669288   \n",
              "min                  0.000000        0.000000                 0.000000   \n",
              "25%                  0.000000        7.000000               184.137500   \n",
              "50%                  0.000000       18.000000               598.936905   \n",
              "75%                  0.000000       38.000000              1464.157214   \n",
              "max               2549.375000      705.000000             63973.522230   \n",
              "\n",
              "        BounceRates     ExitRates    PageValues    SpecialDay  \\\n",
              "count  12330.000000  12330.000000  12330.000000  12330.000000   \n",
              "mean       0.022191      0.043073      5.889258      0.061427   \n",
              "std        0.048488      0.048597     18.568437      0.198917   \n",
              "min        0.000000      0.000000      0.000000      0.000000   \n",
              "25%        0.000000      0.014286      0.000000      0.000000   \n",
              "50%        0.003112      0.025156      0.000000      0.000000   \n",
              "75%        0.016813      0.050000      0.000000      0.000000   \n",
              "max        0.200000      0.200000    361.763742      1.000000   \n",
              "\n",
              "       OperatingSystems       Browser        Region   TrafficType  \n",
              "count      12330.000000  12330.000000  12330.000000  12330.000000  \n",
              "mean           2.124006      2.357097      3.147364      4.069586  \n",
              "std            0.911325      1.717277      2.401591      4.025169  \n",
              "min            1.000000      1.000000      1.000000      1.000000  \n",
              "25%            2.000000      2.000000      1.000000      2.000000  \n",
              "50%            2.000000      2.000000      3.000000      2.000000  \n",
              "75%            3.000000      2.000000      4.000000      4.000000  \n",
              "max            8.000000     13.000000      9.000000     20.000000  "
            ],
            "text/html": [
              "\n",
              "  <div id=\"df-e033fbd7-d858-4b55-9912-f97bb96443c7\" class=\"colab-df-container\">\n",
              "    <div>\n",
              "<style scoped>\n",
              "    .dataframe tbody tr th:only-of-type {\n",
              "        vertical-align: middle;\n",
              "    }\n",
              "\n",
              "    .dataframe tbody tr th {\n",
              "        vertical-align: top;\n",
              "    }\n",
              "\n",
              "    .dataframe thead th {\n",
              "        text-align: right;\n",
              "    }\n",
              "</style>\n",
              "<table border=\"1\" class=\"dataframe\">\n",
              "  <thead>\n",
              "    <tr style=\"text-align: right;\">\n",
              "      <th></th>\n",
              "      <th>Administrative</th>\n",
              "      <th>Administrative_Duration</th>\n",
              "      <th>Informational</th>\n",
              "      <th>Informational_Duration</th>\n",
              "      <th>ProductRelated</th>\n",
              "      <th>ProductRelated_Duration</th>\n",
              "      <th>BounceRates</th>\n",
              "      <th>ExitRates</th>\n",
              "      <th>PageValues</th>\n",
              "      <th>SpecialDay</th>\n",
              "      <th>OperatingSystems</th>\n",
              "      <th>Browser</th>\n",
              "      <th>Region</th>\n",
              "      <th>TrafficType</th>\n",
              "    </tr>\n",
              "  </thead>\n",
              "  <tbody>\n",
              "    <tr>\n",
              "      <th>count</th>\n",
              "      <td>12330.000000</td>\n",
              "      <td>12330.000000</td>\n",
              "      <td>12330.000000</td>\n",
              "      <td>12330.000000</td>\n",
              "      <td>12330.000000</td>\n",
              "      <td>12330.000000</td>\n",
              "      <td>12330.000000</td>\n",
              "      <td>12330.000000</td>\n",
              "      <td>12330.000000</td>\n",
              "      <td>12330.000000</td>\n",
              "      <td>12330.000000</td>\n",
              "      <td>12330.000000</td>\n",
              "      <td>12330.000000</td>\n",
              "      <td>12330.000000</td>\n",
              "    </tr>\n",
              "    <tr>\n",
              "      <th>mean</th>\n",
              "      <td>2.315166</td>\n",
              "      <td>80.818611</td>\n",
              "      <td>0.503569</td>\n",
              "      <td>34.472398</td>\n",
              "      <td>31.731468</td>\n",
              "      <td>1194.746220</td>\n",
              "      <td>0.022191</td>\n",
              "      <td>0.043073</td>\n",
              "      <td>5.889258</td>\n",
              "      <td>0.061427</td>\n",
              "      <td>2.124006</td>\n",
              "      <td>2.357097</td>\n",
              "      <td>3.147364</td>\n",
              "      <td>4.069586</td>\n",
              "    </tr>\n",
              "    <tr>\n",
              "      <th>std</th>\n",
              "      <td>3.321784</td>\n",
              "      <td>176.779107</td>\n",
              "      <td>1.270156</td>\n",
              "      <td>140.749294</td>\n",
              "      <td>44.475503</td>\n",
              "      <td>1913.669288</td>\n",
              "      <td>0.048488</td>\n",
              "      <td>0.048597</td>\n",
              "      <td>18.568437</td>\n",
              "      <td>0.198917</td>\n",
              "      <td>0.911325</td>\n",
              "      <td>1.717277</td>\n",
              "      <td>2.401591</td>\n",
              "      <td>4.025169</td>\n",
              "    </tr>\n",
              "    <tr>\n",
              "      <th>min</th>\n",
              "      <td>0.000000</td>\n",
              "      <td>0.000000</td>\n",
              "      <td>0.000000</td>\n",
              "      <td>0.000000</td>\n",
              "      <td>0.000000</td>\n",
              "      <td>0.000000</td>\n",
              "      <td>0.000000</td>\n",
              "      <td>0.000000</td>\n",
              "      <td>0.000000</td>\n",
              "      <td>0.000000</td>\n",
              "      <td>1.000000</td>\n",
              "      <td>1.000000</td>\n",
              "      <td>1.000000</td>\n",
              "      <td>1.000000</td>\n",
              "    </tr>\n",
              "    <tr>\n",
              "      <th>25%</th>\n",
              "      <td>0.000000</td>\n",
              "      <td>0.000000</td>\n",
              "      <td>0.000000</td>\n",
              "      <td>0.000000</td>\n",
              "      <td>7.000000</td>\n",
              "      <td>184.137500</td>\n",
              "      <td>0.000000</td>\n",
              "      <td>0.014286</td>\n",
              "      <td>0.000000</td>\n",
              "      <td>0.000000</td>\n",
              "      <td>2.000000</td>\n",
              "      <td>2.000000</td>\n",
              "      <td>1.000000</td>\n",
              "      <td>2.000000</td>\n",
              "    </tr>\n",
              "    <tr>\n",
              "      <th>50%</th>\n",
              "      <td>1.000000</td>\n",
              "      <td>7.500000</td>\n",
              "      <td>0.000000</td>\n",
              "      <td>0.000000</td>\n",
              "      <td>18.000000</td>\n",
              "      <td>598.936905</td>\n",
              "      <td>0.003112</td>\n",
              "      <td>0.025156</td>\n",
              "      <td>0.000000</td>\n",
              "      <td>0.000000</td>\n",
              "      <td>2.000000</td>\n",
              "      <td>2.000000</td>\n",
              "      <td>3.000000</td>\n",
              "      <td>2.000000</td>\n",
              "    </tr>\n",
              "    <tr>\n",
              "      <th>75%</th>\n",
              "      <td>4.000000</td>\n",
              "      <td>93.256250</td>\n",
              "      <td>0.000000</td>\n",
              "      <td>0.000000</td>\n",
              "      <td>38.000000</td>\n",
              "      <td>1464.157214</td>\n",
              "      <td>0.016813</td>\n",
              "      <td>0.050000</td>\n",
              "      <td>0.000000</td>\n",
              "      <td>0.000000</td>\n",
              "      <td>3.000000</td>\n",
              "      <td>2.000000</td>\n",
              "      <td>4.000000</td>\n",
              "      <td>4.000000</td>\n",
              "    </tr>\n",
              "    <tr>\n",
              "      <th>max</th>\n",
              "      <td>27.000000</td>\n",
              "      <td>3398.750000</td>\n",
              "      <td>24.000000</td>\n",
              "      <td>2549.375000</td>\n",
              "      <td>705.000000</td>\n",
              "      <td>63973.522230</td>\n",
              "      <td>0.200000</td>\n",
              "      <td>0.200000</td>\n",
              "      <td>361.763742</td>\n",
              "      <td>1.000000</td>\n",
              "      <td>8.000000</td>\n",
              "      <td>13.000000</td>\n",
              "      <td>9.000000</td>\n",
              "      <td>20.000000</td>\n",
              "    </tr>\n",
              "  </tbody>\n",
              "</table>\n",
              "</div>\n",
              "    <div class=\"colab-df-buttons\">\n",
              "\n",
              "  <div class=\"colab-df-container\">\n",
              "    <button class=\"colab-df-convert\" onclick=\"convertToInteractive('df-e033fbd7-d858-4b55-9912-f97bb96443c7')\"\n",
              "            title=\"Convert this dataframe to an interactive table.\"\n",
              "            style=\"display:none;\">\n",
              "\n",
              "  <svg xmlns=\"http://www.w3.org/2000/svg\" height=\"24px\" viewBox=\"0 -960 960 960\">\n",
              "    <path d=\"M120-120v-720h720v720H120Zm60-500h600v-160H180v160Zm220 220h160v-160H400v160Zm0 220h160v-160H400v160ZM180-400h160v-160H180v160Zm440 0h160v-160H620v160ZM180-180h160v-160H180v160Zm440 0h160v-160H620v160Z\"/>\n",
              "  </svg>\n",
              "    </button>\n",
              "\n",
              "  <style>\n",
              "    .colab-df-container {\n",
              "      display:flex;\n",
              "      gap: 12px;\n",
              "    }\n",
              "\n",
              "    .colab-df-convert {\n",
              "      background-color: #E8F0FE;\n",
              "      border: none;\n",
              "      border-radius: 50%;\n",
              "      cursor: pointer;\n",
              "      display: none;\n",
              "      fill: #1967D2;\n",
              "      height: 32px;\n",
              "      padding: 0 0 0 0;\n",
              "      width: 32px;\n",
              "    }\n",
              "\n",
              "    .colab-df-convert:hover {\n",
              "      background-color: #E2EBFA;\n",
              "      box-shadow: 0px 1px 2px rgba(60, 64, 67, 0.3), 0px 1px 3px 1px rgba(60, 64, 67, 0.15);\n",
              "      fill: #174EA6;\n",
              "    }\n",
              "\n",
              "    .colab-df-buttons div {\n",
              "      margin-bottom: 4px;\n",
              "    }\n",
              "\n",
              "    [theme=dark] .colab-df-convert {\n",
              "      background-color: #3B4455;\n",
              "      fill: #D2E3FC;\n",
              "    }\n",
              "\n",
              "    [theme=dark] .colab-df-convert:hover {\n",
              "      background-color: #434B5C;\n",
              "      box-shadow: 0px 1px 3px 1px rgba(0, 0, 0, 0.15);\n",
              "      filter: drop-shadow(0px 1px 2px rgba(0, 0, 0, 0.3));\n",
              "      fill: #FFFFFF;\n",
              "    }\n",
              "  </style>\n",
              "\n",
              "    <script>\n",
              "      const buttonEl =\n",
              "        document.querySelector('#df-e033fbd7-d858-4b55-9912-f97bb96443c7 button.colab-df-convert');\n",
              "      buttonEl.style.display =\n",
              "        google.colab.kernel.accessAllowed ? 'block' : 'none';\n",
              "\n",
              "      async function convertToInteractive(key) {\n",
              "        const element = document.querySelector('#df-e033fbd7-d858-4b55-9912-f97bb96443c7');\n",
              "        const dataTable =\n",
              "          await google.colab.kernel.invokeFunction('convertToInteractive',\n",
              "                                                    [key], {});\n",
              "        if (!dataTable) return;\n",
              "\n",
              "        const docLinkHtml = 'Like what you see? Visit the ' +\n",
              "          '<a target=\"_blank\" href=https://colab.research.google.com/notebooks/data_table.ipynb>data table notebook</a>'\n",
              "          + ' to learn more about interactive tables.';\n",
              "        element.innerHTML = '';\n",
              "        dataTable['output_type'] = 'display_data';\n",
              "        await google.colab.output.renderOutput(dataTable, element);\n",
              "        const docLink = document.createElement('div');\n",
              "        docLink.innerHTML = docLinkHtml;\n",
              "        element.appendChild(docLink);\n",
              "      }\n",
              "    </script>\n",
              "  </div>\n",
              "\n",
              "\n",
              "<div id=\"df-0e6b45fd-19db-4c6c-a454-fd35e93086a6\">\n",
              "  <button class=\"colab-df-quickchart\" onclick=\"quickchart('df-0e6b45fd-19db-4c6c-a454-fd35e93086a6')\"\n",
              "            title=\"Suggest charts\"\n",
              "            style=\"display:none;\">\n",
              "\n",
              "<svg xmlns=\"http://www.w3.org/2000/svg\" height=\"24px\"viewBox=\"0 0 24 24\"\n",
              "     width=\"24px\">\n",
              "    <g>\n",
              "        <path d=\"M19 3H5c-1.1 0-2 .9-2 2v14c0 1.1.9 2 2 2h14c1.1 0 2-.9 2-2V5c0-1.1-.9-2-2-2zM9 17H7v-7h2v7zm4 0h-2V7h2v10zm4 0h-2v-4h2v4z\"/>\n",
              "    </g>\n",
              "</svg>\n",
              "  </button>\n",
              "\n",
              "<style>\n",
              "  .colab-df-quickchart {\n",
              "      --bg-color: #E8F0FE;\n",
              "      --fill-color: #1967D2;\n",
              "      --hover-bg-color: #E2EBFA;\n",
              "      --hover-fill-color: #174EA6;\n",
              "      --disabled-fill-color: #AAA;\n",
              "      --disabled-bg-color: #DDD;\n",
              "  }\n",
              "\n",
              "  [theme=dark] .colab-df-quickchart {\n",
              "      --bg-color: #3B4455;\n",
              "      --fill-color: #D2E3FC;\n",
              "      --hover-bg-color: #434B5C;\n",
              "      --hover-fill-color: #FFFFFF;\n",
              "      --disabled-bg-color: #3B4455;\n",
              "      --disabled-fill-color: #666;\n",
              "  }\n",
              "\n",
              "  .colab-df-quickchart {\n",
              "    background-color: var(--bg-color);\n",
              "    border: none;\n",
              "    border-radius: 50%;\n",
              "    cursor: pointer;\n",
              "    display: none;\n",
              "    fill: var(--fill-color);\n",
              "    height: 32px;\n",
              "    padding: 0;\n",
              "    width: 32px;\n",
              "  }\n",
              "\n",
              "  .colab-df-quickchart:hover {\n",
              "    background-color: var(--hover-bg-color);\n",
              "    box-shadow: 0 1px 2px rgba(60, 64, 67, 0.3), 0 1px 3px 1px rgba(60, 64, 67, 0.15);\n",
              "    fill: var(--button-hover-fill-color);\n",
              "  }\n",
              "\n",
              "  .colab-df-quickchart-complete:disabled,\n",
              "  .colab-df-quickchart-complete:disabled:hover {\n",
              "    background-color: var(--disabled-bg-color);\n",
              "    fill: var(--disabled-fill-color);\n",
              "    box-shadow: none;\n",
              "  }\n",
              "\n",
              "  .colab-df-spinner {\n",
              "    border: 2px solid var(--fill-color);\n",
              "    border-color: transparent;\n",
              "    border-bottom-color: var(--fill-color);\n",
              "    animation:\n",
              "      spin 1s steps(1) infinite;\n",
              "  }\n",
              "\n",
              "  @keyframes spin {\n",
              "    0% {\n",
              "      border-color: transparent;\n",
              "      border-bottom-color: var(--fill-color);\n",
              "      border-left-color: var(--fill-color);\n",
              "    }\n",
              "    20% {\n",
              "      border-color: transparent;\n",
              "      border-left-color: var(--fill-color);\n",
              "      border-top-color: var(--fill-color);\n",
              "    }\n",
              "    30% {\n",
              "      border-color: transparent;\n",
              "      border-left-color: var(--fill-color);\n",
              "      border-top-color: var(--fill-color);\n",
              "      border-right-color: var(--fill-color);\n",
              "    }\n",
              "    40% {\n",
              "      border-color: transparent;\n",
              "      border-right-color: var(--fill-color);\n",
              "      border-top-color: var(--fill-color);\n",
              "    }\n",
              "    60% {\n",
              "      border-color: transparent;\n",
              "      border-right-color: var(--fill-color);\n",
              "    }\n",
              "    80% {\n",
              "      border-color: transparent;\n",
              "      border-right-color: var(--fill-color);\n",
              "      border-bottom-color: var(--fill-color);\n",
              "    }\n",
              "    90% {\n",
              "      border-color: transparent;\n",
              "      border-bottom-color: var(--fill-color);\n",
              "    }\n",
              "  }\n",
              "</style>\n",
              "\n",
              "  <script>\n",
              "    async function quickchart(key) {\n",
              "      const quickchartButtonEl =\n",
              "        document.querySelector('#' + key + ' button');\n",
              "      quickchartButtonEl.disabled = true;  // To prevent multiple clicks.\n",
              "      quickchartButtonEl.classList.add('colab-df-spinner');\n",
              "      try {\n",
              "        const charts = await google.colab.kernel.invokeFunction(\n",
              "            'suggestCharts', [key], {});\n",
              "      } catch (error) {\n",
              "        console.error('Error during call to suggestCharts:', error);\n",
              "      }\n",
              "      quickchartButtonEl.classList.remove('colab-df-spinner');\n",
              "      quickchartButtonEl.classList.add('colab-df-quickchart-complete');\n",
              "    }\n",
              "    (() => {\n",
              "      let quickchartButtonEl =\n",
              "        document.querySelector('#df-0e6b45fd-19db-4c6c-a454-fd35e93086a6 button');\n",
              "      quickchartButtonEl.style.display =\n",
              "        google.colab.kernel.accessAllowed ? 'block' : 'none';\n",
              "    })();\n",
              "  </script>\n",
              "</div>\n",
              "    </div>\n",
              "  </div>\n"
            ],
            "application/vnd.google.colaboratory.intrinsic+json": {
              "type": "dataframe",
              "summary": "{\n  \"name\": \"df\",\n  \"rows\": 8,\n  \"fields\": [\n    {\n      \"column\": \"Administrative\",\n      \"properties\": {\n        \"dtype\": \"number\",\n        \"std\": 4357.421533220783,\n        \"min\": 0.0,\n        \"max\": 12330.0,\n        \"num_unique_values\": 7,\n        \"samples\": [\n          12330.0,\n          2.3151662611516626,\n          4.0\n        ],\n        \"semantic_type\": \"\",\n        \"description\": \"\"\n      }\n    },\n    {\n      \"column\": \"Administrative_Duration\",\n      \"properties\": {\n        \"dtype\": \"number\",\n        \"std\": 4330.581827976747,\n        \"min\": 0.0,\n        \"max\": 12330.0,\n        \"num_unique_values\": 7,\n        \"samples\": [\n          12330.0,\n          80.81861053933592,\n          93.25625\n        ],\n        \"semantic_type\": \"\",\n        \"description\": \"\"\n      }\n    },\n    {\n      \"column\": \"Informational\",\n      \"properties\": {\n        \"dtype\": \"number\",\n        \"std\": 4358.019452262416,\n        \"min\": 0.0,\n        \"max\": 12330.0,\n        \"num_unique_values\": 5,\n        \"samples\": [\n          0.5035685320356853,\n          24.0,\n          1.2701564259834865\n        ],\n        \"semantic_type\": \"\",\n        \"description\": \"\"\n      }\n    },\n    {\n      \"column\": \"Informational_Duration\",\n      \"properties\": {\n        \"dtype\": \"number\",\n        \"std\": 4313.08807840508,\n        \"min\": 0.0,\n        \"max\": 12330.0,\n        \"num_unique_values\": 5,\n        \"samples\": [\n          34.47239792772304,\n          2549.375,\n          140.74929442219084\n        ],\n        \"semantic_type\": \"\",\n        \"description\": \"\"\n      }\n    },\n    {\n      \"column\": \"ProductRelated\",\n      \"properties\": {\n        \"dtype\": \"number\",\n        \"std\": 4323.288444017446,\n        \"min\": 0.0,\n        \"max\": 12330.0,\n        \"num_unique_values\": 8,\n        \"samples\": [\n          31.731467964314678,\n          18.0,\n          12330.0\n        ],\n        \"semantic_type\": \"\",\n        \"description\": \"\"\n      }\n    },\n    {\n      \"column\": \"ProductRelated_Duration\",\n      \"properties\": {\n        \"dtype\": \"number\",\n        \"std\": 22099.576243757514,\n        \"min\": 0.0,\n        \"max\": 63973.52223,\n        \"num_unique_values\": 8,\n        \"samples\": [\n          1194.7462199688268,\n          598.9369047499999,\n          12330.0\n        ],\n        \"semantic_type\": \"\",\n        \"description\": \"\"\n      }\n    },\n    {\n      \"column\": \"BounceRates\",\n      \"properties\": {\n        \"dtype\": \"number\",\n        \"std\": 4359.298628768896,\n        \"min\": 0.0,\n        \"max\": 12330.0,\n        \"num_unique_values\": 7,\n        \"samples\": [\n          12330.0,\n          0.02219138047072182,\n          0.016812558499999998\n        ],\n        \"semantic_type\": \"\",\n        \"description\": \"\"\n      }\n    },\n    {\n      \"column\": \"ExitRates\",\n      \"properties\": {\n        \"dtype\": \"number\",\n        \"std\": 4359.294057418972,\n        \"min\": 0.0,\n        \"max\": 12330.0,\n        \"num_unique_values\": 8,\n        \"samples\": [\n          0.04307279776650446,\n          0.0251564025,\n          12330.0\n        ],\n        \"semantic_type\": \"\",\n        \"description\": \"\"\n      }\n    },\n    {\n      \"column\": \"PageValues\",\n      \"properties\": {\n        \"dtype\": \"number\",\n        \"std\": 4341.615343276191,\n        \"min\": 0.0,\n        \"max\": 12330.0,\n        \"num_unique_values\": 5,\n        \"samples\": [\n          5.889257862693592,\n          361.7637419,\n          18.56843660780723\n        ],\n        \"semantic_type\": \"\",\n        \"description\": \"\"\n      }\n    },\n    {\n      \"column\": \"SpecialDay\",\n      \"properties\": {\n        \"dtype\": \"number\",\n        \"std\": 4359.24966237291,\n        \"min\": 0.0,\n        \"max\": 12330.0,\n        \"num_unique_values\": 5,\n        \"samples\": [\n          0.061427412814274135,\n          1.0,\n          0.19891727315262578\n        ],\n        \"semantic_type\": \"\",\n        \"description\": \"\"\n      }\n    },\n    {\n      \"column\": \"OperatingSystems\",\n      \"properties\": {\n        \"dtype\": \"number\",\n        \"std\": 4358.352459689198,\n        \"min\": 0.911324828710694,\n        \"max\": 12330.0,\n        \"num_unique_values\": 7,\n        \"samples\": [\n          12330.0,\n          2.124006488240065,\n          3.0\n        ],\n        \"semantic_type\": \"\",\n        \"description\": \"\"\n      }\n    },\n    {\n      \"column\": \"Browser\",\n      \"properties\": {\n        \"dtype\": \"number\",\n        \"std\": 4358.0991318735705,\n        \"min\": 1.0,\n        \"max\": 12330.0,\n        \"num_unique_values\": 6,\n        \"samples\": [\n          12330.0,\n          2.357096512570965,\n          13.0\n        ],\n        \"semantic_type\": \"\",\n        \"description\": \"\"\n      }\n    },\n    {\n      \"column\": \"Region\",\n      \"properties\": {\n        \"dtype\": \"number\",\n        \"std\": 4358.124632706003,\n        \"min\": 1.0,\n        \"max\": 12330.0,\n        \"num_unique_values\": 7,\n        \"samples\": [\n          12330.0,\n          3.1473641524736413,\n          4.0\n        ],\n        \"semantic_type\": \"\",\n        \"description\": \"\"\n      }\n    },\n    {\n      \"column\": \"TrafficType\",\n      \"properties\": {\n        \"dtype\": \"number\",\n        \"std\": 4357.444019425214,\n        \"min\": 1.0,\n        \"max\": 12330.0,\n        \"num_unique_values\": 7,\n        \"samples\": [\n          12330.0,\n          4.069586374695864,\n          4.0\n        ],\n        \"semantic_type\": \"\",\n        \"description\": \"\"\n      }\n    }\n  ]\n}"
            }
          },
          "metadata": {},
          "execution_count": 109
        }
      ]
    },
    {
      "cell_type": "markdown",
      "source": [
        "### Make the column and categorical names lowercase and replace spaces with underscores, missing values checking"
      ],
      "metadata": {
        "id": "GCsHiMbKzb0r"
      }
    },
    {
      "cell_type": "code",
      "source": [
        "df.columns  = df.columns.str.lower().str.replace(' ', '_')"
      ],
      "metadata": {
        "id": "9abGfQAIzfyR"
      },
      "execution_count": null,
      "outputs": []
    },
    {
      "cell_type": "code",
      "source": [
        "categorical = list(df.dtypes[df.dtypes == 'object'].index)\n",
        "for c in categorical:\n",
        "  df[c] = df[c].str.lower().str.replace(' ', '_')"
      ],
      "metadata": {
        "id": "6xWxfiJrUr3R"
      },
      "execution_count": null,
      "outputs": []
    },
    {
      "cell_type": "code",
      "source": [
        "df.head()"
      ],
      "metadata": {
        "colab": {
          "base_uri": "https://localhost:8080/",
          "height": 226
        },
        "id": "gBLdwaFcWlPT",
        "outputId": "81fca472-d270-42d6-d433-fe6fee79c2ec"
      },
      "execution_count": null,
      "outputs": [
        {
          "output_type": "execute_result",
          "data": {
            "text/plain": [
              "   administrative  administrative_duration  informational  \\\n",
              "0               0                      0.0              0   \n",
              "1               0                      0.0              0   \n",
              "2               0                      0.0              0   \n",
              "3               0                      0.0              0   \n",
              "4               0                      0.0              0   \n",
              "\n",
              "   informational_duration  productrelated  productrelated_duration  \\\n",
              "0                     0.0               1                 0.000000   \n",
              "1                     0.0               2                64.000000   \n",
              "2                     0.0               1                 0.000000   \n",
              "3                     0.0               2                 2.666667   \n",
              "4                     0.0              10               627.500000   \n",
              "\n",
              "   bouncerates  exitrates  pagevalues  specialday month  operatingsystems  \\\n",
              "0         0.20       0.20         0.0         0.0   feb                 1   \n",
              "1         0.00       0.10         0.0         0.0   feb                 2   \n",
              "2         0.20       0.20         0.0         0.0   feb                 4   \n",
              "3         0.05       0.14         0.0         0.0   feb                 3   \n",
              "4         0.02       0.05         0.0         0.0   feb                 3   \n",
              "\n",
              "   browser  region  traffictype        visitortype  weekend  revenue  \n",
              "0        1       1            1  returning_visitor    False    False  \n",
              "1        2       1            2  returning_visitor    False    False  \n",
              "2        1       9            3  returning_visitor    False    False  \n",
              "3        2       2            4  returning_visitor    False    False  \n",
              "4        3       1            4  returning_visitor     True    False  "
            ],
            "text/html": [
              "\n",
              "  <div id=\"df-d6a2007b-bf02-45f7-b3aa-fa1cd2db2870\" class=\"colab-df-container\">\n",
              "    <div>\n",
              "<style scoped>\n",
              "    .dataframe tbody tr th:only-of-type {\n",
              "        vertical-align: middle;\n",
              "    }\n",
              "\n",
              "    .dataframe tbody tr th {\n",
              "        vertical-align: top;\n",
              "    }\n",
              "\n",
              "    .dataframe thead th {\n",
              "        text-align: right;\n",
              "    }\n",
              "</style>\n",
              "<table border=\"1\" class=\"dataframe\">\n",
              "  <thead>\n",
              "    <tr style=\"text-align: right;\">\n",
              "      <th></th>\n",
              "      <th>administrative</th>\n",
              "      <th>administrative_duration</th>\n",
              "      <th>informational</th>\n",
              "      <th>informational_duration</th>\n",
              "      <th>productrelated</th>\n",
              "      <th>productrelated_duration</th>\n",
              "      <th>bouncerates</th>\n",
              "      <th>exitrates</th>\n",
              "      <th>pagevalues</th>\n",
              "      <th>specialday</th>\n",
              "      <th>month</th>\n",
              "      <th>operatingsystems</th>\n",
              "      <th>browser</th>\n",
              "      <th>region</th>\n",
              "      <th>traffictype</th>\n",
              "      <th>visitortype</th>\n",
              "      <th>weekend</th>\n",
              "      <th>revenue</th>\n",
              "    </tr>\n",
              "  </thead>\n",
              "  <tbody>\n",
              "    <tr>\n",
              "      <th>0</th>\n",
              "      <td>0</td>\n",
              "      <td>0.0</td>\n",
              "      <td>0</td>\n",
              "      <td>0.0</td>\n",
              "      <td>1</td>\n",
              "      <td>0.000000</td>\n",
              "      <td>0.20</td>\n",
              "      <td>0.20</td>\n",
              "      <td>0.0</td>\n",
              "      <td>0.0</td>\n",
              "      <td>feb</td>\n",
              "      <td>1</td>\n",
              "      <td>1</td>\n",
              "      <td>1</td>\n",
              "      <td>1</td>\n",
              "      <td>returning_visitor</td>\n",
              "      <td>False</td>\n",
              "      <td>False</td>\n",
              "    </tr>\n",
              "    <tr>\n",
              "      <th>1</th>\n",
              "      <td>0</td>\n",
              "      <td>0.0</td>\n",
              "      <td>0</td>\n",
              "      <td>0.0</td>\n",
              "      <td>2</td>\n",
              "      <td>64.000000</td>\n",
              "      <td>0.00</td>\n",
              "      <td>0.10</td>\n",
              "      <td>0.0</td>\n",
              "      <td>0.0</td>\n",
              "      <td>feb</td>\n",
              "      <td>2</td>\n",
              "      <td>2</td>\n",
              "      <td>1</td>\n",
              "      <td>2</td>\n",
              "      <td>returning_visitor</td>\n",
              "      <td>False</td>\n",
              "      <td>False</td>\n",
              "    </tr>\n",
              "    <tr>\n",
              "      <th>2</th>\n",
              "      <td>0</td>\n",
              "      <td>0.0</td>\n",
              "      <td>0</td>\n",
              "      <td>0.0</td>\n",
              "      <td>1</td>\n",
              "      <td>0.000000</td>\n",
              "      <td>0.20</td>\n",
              "      <td>0.20</td>\n",
              "      <td>0.0</td>\n",
              "      <td>0.0</td>\n",
              "      <td>feb</td>\n",
              "      <td>4</td>\n",
              "      <td>1</td>\n",
              "      <td>9</td>\n",
              "      <td>3</td>\n",
              "      <td>returning_visitor</td>\n",
              "      <td>False</td>\n",
              "      <td>False</td>\n",
              "    </tr>\n",
              "    <tr>\n",
              "      <th>3</th>\n",
              "      <td>0</td>\n",
              "      <td>0.0</td>\n",
              "      <td>0</td>\n",
              "      <td>0.0</td>\n",
              "      <td>2</td>\n",
              "      <td>2.666667</td>\n",
              "      <td>0.05</td>\n",
              "      <td>0.14</td>\n",
              "      <td>0.0</td>\n",
              "      <td>0.0</td>\n",
              "      <td>feb</td>\n",
              "      <td>3</td>\n",
              "      <td>2</td>\n",
              "      <td>2</td>\n",
              "      <td>4</td>\n",
              "      <td>returning_visitor</td>\n",
              "      <td>False</td>\n",
              "      <td>False</td>\n",
              "    </tr>\n",
              "    <tr>\n",
              "      <th>4</th>\n",
              "      <td>0</td>\n",
              "      <td>0.0</td>\n",
              "      <td>0</td>\n",
              "      <td>0.0</td>\n",
              "      <td>10</td>\n",
              "      <td>627.500000</td>\n",
              "      <td>0.02</td>\n",
              "      <td>0.05</td>\n",
              "      <td>0.0</td>\n",
              "      <td>0.0</td>\n",
              "      <td>feb</td>\n",
              "      <td>3</td>\n",
              "      <td>3</td>\n",
              "      <td>1</td>\n",
              "      <td>4</td>\n",
              "      <td>returning_visitor</td>\n",
              "      <td>True</td>\n",
              "      <td>False</td>\n",
              "    </tr>\n",
              "  </tbody>\n",
              "</table>\n",
              "</div>\n",
              "    <div class=\"colab-df-buttons\">\n",
              "\n",
              "  <div class=\"colab-df-container\">\n",
              "    <button class=\"colab-df-convert\" onclick=\"convertToInteractive('df-d6a2007b-bf02-45f7-b3aa-fa1cd2db2870')\"\n",
              "            title=\"Convert this dataframe to an interactive table.\"\n",
              "            style=\"display:none;\">\n",
              "\n",
              "  <svg xmlns=\"http://www.w3.org/2000/svg\" height=\"24px\" viewBox=\"0 -960 960 960\">\n",
              "    <path d=\"M120-120v-720h720v720H120Zm60-500h600v-160H180v160Zm220 220h160v-160H400v160Zm0 220h160v-160H400v160ZM180-400h160v-160H180v160Zm440 0h160v-160H620v160ZM180-180h160v-160H180v160Zm440 0h160v-160H620v160Z\"/>\n",
              "  </svg>\n",
              "    </button>\n",
              "\n",
              "  <style>\n",
              "    .colab-df-container {\n",
              "      display:flex;\n",
              "      gap: 12px;\n",
              "    }\n",
              "\n",
              "    .colab-df-convert {\n",
              "      background-color: #E8F0FE;\n",
              "      border: none;\n",
              "      border-radius: 50%;\n",
              "      cursor: pointer;\n",
              "      display: none;\n",
              "      fill: #1967D2;\n",
              "      height: 32px;\n",
              "      padding: 0 0 0 0;\n",
              "      width: 32px;\n",
              "    }\n",
              "\n",
              "    .colab-df-convert:hover {\n",
              "      background-color: #E2EBFA;\n",
              "      box-shadow: 0px 1px 2px rgba(60, 64, 67, 0.3), 0px 1px 3px 1px rgba(60, 64, 67, 0.15);\n",
              "      fill: #174EA6;\n",
              "    }\n",
              "\n",
              "    .colab-df-buttons div {\n",
              "      margin-bottom: 4px;\n",
              "    }\n",
              "\n",
              "    [theme=dark] .colab-df-convert {\n",
              "      background-color: #3B4455;\n",
              "      fill: #D2E3FC;\n",
              "    }\n",
              "\n",
              "    [theme=dark] .colab-df-convert:hover {\n",
              "      background-color: #434B5C;\n",
              "      box-shadow: 0px 1px 3px 1px rgba(0, 0, 0, 0.15);\n",
              "      filter: drop-shadow(0px 1px 2px rgba(0, 0, 0, 0.3));\n",
              "      fill: #FFFFFF;\n",
              "    }\n",
              "  </style>\n",
              "\n",
              "    <script>\n",
              "      const buttonEl =\n",
              "        document.querySelector('#df-d6a2007b-bf02-45f7-b3aa-fa1cd2db2870 button.colab-df-convert');\n",
              "      buttonEl.style.display =\n",
              "        google.colab.kernel.accessAllowed ? 'block' : 'none';\n",
              "\n",
              "      async function convertToInteractive(key) {\n",
              "        const element = document.querySelector('#df-d6a2007b-bf02-45f7-b3aa-fa1cd2db2870');\n",
              "        const dataTable =\n",
              "          await google.colab.kernel.invokeFunction('convertToInteractive',\n",
              "                                                    [key], {});\n",
              "        if (!dataTable) return;\n",
              "\n",
              "        const docLinkHtml = 'Like what you see? Visit the ' +\n",
              "          '<a target=\"_blank\" href=https://colab.research.google.com/notebooks/data_table.ipynb>data table notebook</a>'\n",
              "          + ' to learn more about interactive tables.';\n",
              "        element.innerHTML = '';\n",
              "        dataTable['output_type'] = 'display_data';\n",
              "        await google.colab.output.renderOutput(dataTable, element);\n",
              "        const docLink = document.createElement('div');\n",
              "        docLink.innerHTML = docLinkHtml;\n",
              "        element.appendChild(docLink);\n",
              "      }\n",
              "    </script>\n",
              "  </div>\n",
              "\n",
              "\n",
              "<div id=\"df-4a309e23-5f9e-430f-be89-ee8a4954a993\">\n",
              "  <button class=\"colab-df-quickchart\" onclick=\"quickchart('df-4a309e23-5f9e-430f-be89-ee8a4954a993')\"\n",
              "            title=\"Suggest charts\"\n",
              "            style=\"display:none;\">\n",
              "\n",
              "<svg xmlns=\"http://www.w3.org/2000/svg\" height=\"24px\"viewBox=\"0 0 24 24\"\n",
              "     width=\"24px\">\n",
              "    <g>\n",
              "        <path d=\"M19 3H5c-1.1 0-2 .9-2 2v14c0 1.1.9 2 2 2h14c1.1 0 2-.9 2-2V5c0-1.1-.9-2-2-2zM9 17H7v-7h2v7zm4 0h-2V7h2v10zm4 0h-2v-4h2v4z\"/>\n",
              "    </g>\n",
              "</svg>\n",
              "  </button>\n",
              "\n",
              "<style>\n",
              "  .colab-df-quickchart {\n",
              "      --bg-color: #E8F0FE;\n",
              "      --fill-color: #1967D2;\n",
              "      --hover-bg-color: #E2EBFA;\n",
              "      --hover-fill-color: #174EA6;\n",
              "      --disabled-fill-color: #AAA;\n",
              "      --disabled-bg-color: #DDD;\n",
              "  }\n",
              "\n",
              "  [theme=dark] .colab-df-quickchart {\n",
              "      --bg-color: #3B4455;\n",
              "      --fill-color: #D2E3FC;\n",
              "      --hover-bg-color: #434B5C;\n",
              "      --hover-fill-color: #FFFFFF;\n",
              "      --disabled-bg-color: #3B4455;\n",
              "      --disabled-fill-color: #666;\n",
              "  }\n",
              "\n",
              "  .colab-df-quickchart {\n",
              "    background-color: var(--bg-color);\n",
              "    border: none;\n",
              "    border-radius: 50%;\n",
              "    cursor: pointer;\n",
              "    display: none;\n",
              "    fill: var(--fill-color);\n",
              "    height: 32px;\n",
              "    padding: 0;\n",
              "    width: 32px;\n",
              "  }\n",
              "\n",
              "  .colab-df-quickchart:hover {\n",
              "    background-color: var(--hover-bg-color);\n",
              "    box-shadow: 0 1px 2px rgba(60, 64, 67, 0.3), 0 1px 3px 1px rgba(60, 64, 67, 0.15);\n",
              "    fill: var(--button-hover-fill-color);\n",
              "  }\n",
              "\n",
              "  .colab-df-quickchart-complete:disabled,\n",
              "  .colab-df-quickchart-complete:disabled:hover {\n",
              "    background-color: var(--disabled-bg-color);\n",
              "    fill: var(--disabled-fill-color);\n",
              "    box-shadow: none;\n",
              "  }\n",
              "\n",
              "  .colab-df-spinner {\n",
              "    border: 2px solid var(--fill-color);\n",
              "    border-color: transparent;\n",
              "    border-bottom-color: var(--fill-color);\n",
              "    animation:\n",
              "      spin 1s steps(1) infinite;\n",
              "  }\n",
              "\n",
              "  @keyframes spin {\n",
              "    0% {\n",
              "      border-color: transparent;\n",
              "      border-bottom-color: var(--fill-color);\n",
              "      border-left-color: var(--fill-color);\n",
              "    }\n",
              "    20% {\n",
              "      border-color: transparent;\n",
              "      border-left-color: var(--fill-color);\n",
              "      border-top-color: var(--fill-color);\n",
              "    }\n",
              "    30% {\n",
              "      border-color: transparent;\n",
              "      border-left-color: var(--fill-color);\n",
              "      border-top-color: var(--fill-color);\n",
              "      border-right-color: var(--fill-color);\n",
              "    }\n",
              "    40% {\n",
              "      border-color: transparent;\n",
              "      border-right-color: var(--fill-color);\n",
              "      border-top-color: var(--fill-color);\n",
              "    }\n",
              "    60% {\n",
              "      border-color: transparent;\n",
              "      border-right-color: var(--fill-color);\n",
              "    }\n",
              "    80% {\n",
              "      border-color: transparent;\n",
              "      border-right-color: var(--fill-color);\n",
              "      border-bottom-color: var(--fill-color);\n",
              "    }\n",
              "    90% {\n",
              "      border-color: transparent;\n",
              "      border-bottom-color: var(--fill-color);\n",
              "    }\n",
              "  }\n",
              "</style>\n",
              "\n",
              "  <script>\n",
              "    async function quickchart(key) {\n",
              "      const quickchartButtonEl =\n",
              "        document.querySelector('#' + key + ' button');\n",
              "      quickchartButtonEl.disabled = true;  // To prevent multiple clicks.\n",
              "      quickchartButtonEl.classList.add('colab-df-spinner');\n",
              "      try {\n",
              "        const charts = await google.colab.kernel.invokeFunction(\n",
              "            'suggestCharts', [key], {});\n",
              "      } catch (error) {\n",
              "        console.error('Error during call to suggestCharts:', error);\n",
              "      }\n",
              "      quickchartButtonEl.classList.remove('colab-df-spinner');\n",
              "      quickchartButtonEl.classList.add('colab-df-quickchart-complete');\n",
              "    }\n",
              "    (() => {\n",
              "      let quickchartButtonEl =\n",
              "        document.querySelector('#df-4a309e23-5f9e-430f-be89-ee8a4954a993 button');\n",
              "      quickchartButtonEl.style.display =\n",
              "        google.colab.kernel.accessAllowed ? 'block' : 'none';\n",
              "    })();\n",
              "  </script>\n",
              "</div>\n",
              "    </div>\n",
              "  </div>\n"
            ],
            "application/vnd.google.colaboratory.intrinsic+json": {
              "type": "dataframe",
              "variable_name": "df",
              "summary": "{\n  \"name\": \"df\",\n  \"rows\": 12330,\n  \"fields\": [\n    {\n      \"column\": \"administrative\",\n      \"properties\": {\n        \"dtype\": \"number\",\n        \"std\": 3,\n        \"min\": 0,\n        \"max\": 27,\n        \"num_unique_values\": 27,\n        \"samples\": [\n          5,\n          11,\n          9\n        ],\n        \"semantic_type\": \"\",\n        \"description\": \"\"\n      }\n    },\n    {\n      \"column\": \"administrative_duration\",\n      \"properties\": {\n        \"dtype\": \"number\",\n        \"std\": 176.77910747048236,\n        \"min\": 0.0,\n        \"max\": 3398.75,\n        \"num_unique_values\": 3335,\n        \"samples\": [\n          93.6,\n          63.08333333,\n          351.0833333\n        ],\n        \"semantic_type\": \"\",\n        \"description\": \"\"\n      }\n    },\n    {\n      \"column\": \"informational\",\n      \"properties\": {\n        \"dtype\": \"number\",\n        \"std\": 1,\n        \"min\": 0,\n        \"max\": 24,\n        \"num_unique_values\": 17,\n        \"samples\": [\n          0,\n          1,\n          5\n        ],\n        \"semantic_type\": \"\",\n        \"description\": \"\"\n      }\n    },\n    {\n      \"column\": \"informational_duration\",\n      \"properties\": {\n        \"dtype\": \"number\",\n        \"std\": 140.74929442219084,\n        \"min\": 0.0,\n        \"max\": 2549.375,\n        \"num_unique_values\": 1258,\n        \"samples\": [\n          793.8,\n          50.0,\n          57.0\n        ],\n        \"semantic_type\": \"\",\n        \"description\": \"\"\n      }\n    },\n    {\n      \"column\": \"productrelated\",\n      \"properties\": {\n        \"dtype\": \"number\",\n        \"std\": 44,\n        \"min\": 0,\n        \"max\": 705,\n        \"num_unique_values\": 311,\n        \"samples\": [\n          330,\n          23,\n          54\n        ],\n        \"semantic_type\": \"\",\n        \"description\": \"\"\n      }\n    },\n    {\n      \"column\": \"productrelated_duration\",\n      \"properties\": {\n        \"dtype\": \"number\",\n        \"std\": 1913.6692878719944,\n        \"min\": 0.0,\n        \"max\": 63973.52223,\n        \"num_unique_values\": 9551,\n        \"samples\": [\n          225.68,\n          232.6666667,\n          2834.280117\n        ],\n        \"semantic_type\": \"\",\n        \"description\": \"\"\n      }\n    },\n    {\n      \"column\": \"bouncerates\",\n      \"properties\": {\n        \"dtype\": \"number\",\n        \"std\": 0.04848832180626314,\n        \"min\": 0.0,\n        \"max\": 0.2,\n        \"num_unique_values\": 1872,\n        \"samples\": [\n          0.004778942,\n          0.010793651,\n          0.005073996\n        ],\n        \"semantic_type\": \"\",\n        \"description\": \"\"\n      }\n    },\n    {\n      \"column\": \"exitrates\",\n      \"properties\": {\n        \"dtype\": \"number\",\n        \"std\": 0.04859654055144408,\n        \"min\": 0.0,\n        \"max\": 0.2,\n        \"num_unique_values\": 4777,\n        \"samples\": [\n          0.120833333,\n          0.006857143,\n          0.008914729\n        ],\n        \"semantic_type\": \"\",\n        \"description\": \"\"\n      }\n    },\n    {\n      \"column\": \"pagevalues\",\n      \"properties\": {\n        \"dtype\": \"number\",\n        \"std\": 18.56843660780723,\n        \"min\": 0.0,\n        \"max\": 361.7637419,\n        \"num_unique_values\": 2704,\n        \"samples\": [\n          54.65714872,\n          20.97239726,\n          11.65996434\n        ],\n        \"semantic_type\": \"\",\n        \"description\": \"\"\n      }\n    },\n    {\n      \"column\": \"specialday\",\n      \"properties\": {\n        \"dtype\": \"number\",\n        \"std\": 0.19891727315262578,\n        \"min\": 0.0,\n        \"max\": 1.0,\n        \"num_unique_values\": 6,\n        \"samples\": [\n          0.0,\n          0.4,\n          0.6\n        ],\n        \"semantic_type\": \"\",\n        \"description\": \"\"\n      }\n    },\n    {\n      \"column\": \"month\",\n      \"properties\": {\n        \"dtype\": \"category\",\n        \"num_unique_values\": 10,\n        \"samples\": [\n          \"sep\",\n          \"mar\",\n          \"jul\"\n        ],\n        \"semantic_type\": \"\",\n        \"description\": \"\"\n      }\n    },\n    {\n      \"column\": \"operatingsystems\",\n      \"properties\": {\n        \"dtype\": \"number\",\n        \"std\": 0,\n        \"min\": 1,\n        \"max\": 8,\n        \"num_unique_values\": 8,\n        \"samples\": [\n          2,\n          6,\n          1\n        ],\n        \"semantic_type\": \"\",\n        \"description\": \"\"\n      }\n    },\n    {\n      \"column\": \"browser\",\n      \"properties\": {\n        \"dtype\": \"number\",\n        \"std\": 1,\n        \"min\": 1,\n        \"max\": 13,\n        \"num_unique_values\": 13,\n        \"samples\": [\n          13,\n          9,\n          1\n        ],\n        \"semantic_type\": \"\",\n        \"description\": \"\"\n      }\n    },\n    {\n      \"column\": \"region\",\n      \"properties\": {\n        \"dtype\": \"number\",\n        \"std\": 2,\n        \"min\": 1,\n        \"max\": 9,\n        \"num_unique_values\": 9,\n        \"samples\": [\n          7,\n          9,\n          5\n        ],\n        \"semantic_type\": \"\",\n        \"description\": \"\"\n      }\n    },\n    {\n      \"column\": \"traffictype\",\n      \"properties\": {\n        \"dtype\": \"number\",\n        \"std\": 4,\n        \"min\": 1,\n        \"max\": 20,\n        \"num_unique_values\": 20,\n        \"samples\": [\n          1,\n          16,\n          18\n        ],\n        \"semantic_type\": \"\",\n        \"description\": \"\"\n      }\n    },\n    {\n      \"column\": \"visitortype\",\n      \"properties\": {\n        \"dtype\": \"category\",\n        \"num_unique_values\": 3,\n        \"samples\": [\n          \"returning_visitor\",\n          \"new_visitor\",\n          \"other\"\n        ],\n        \"semantic_type\": \"\",\n        \"description\": \"\"\n      }\n    },\n    {\n      \"column\": \"weekend\",\n      \"properties\": {\n        \"dtype\": \"boolean\",\n        \"num_unique_values\": 2,\n        \"samples\": [\n          true,\n          false\n        ],\n        \"semantic_type\": \"\",\n        \"description\": \"\"\n      }\n    },\n    {\n      \"column\": \"revenue\",\n      \"properties\": {\n        \"dtype\": \"boolean\",\n        \"num_unique_values\": 2,\n        \"samples\": [\n          true,\n          false\n        ],\n        \"semantic_type\": \"\",\n        \"description\": \"\"\n      }\n    }\n  ]\n}"
            }
          },
          "metadata": {},
          "execution_count": 112
        }
      ]
    },
    {
      "cell_type": "code",
      "source": [
        "# Split the data into 3 parts: train/validation/test with 60%/20%/20% distribution\n",
        "df_train_full, df_test = train_test_split(df, test_size=0.2, random_state=1)\n",
        "df_train, df_val = train_test_split(df_train_full, test_size=0.25, random_state=1)"
      ],
      "metadata": {
        "id": "XsvRzlkRZmRp"
      },
      "execution_count": null,
      "outputs": []
    },
    {
      "cell_type": "code",
      "source": [
        "# Reset the Dataframe indexes\n",
        "df_train = df_train.reset_index(drop=True)\n",
        "df_val = df_val.reset_index(drop=True)\n",
        "df_test = df_test.reset_index(drop=True)"
      ],
      "metadata": {
        "id": "KDU3PMCUaSis"
      },
      "execution_count": null,
      "outputs": []
    },
    {
      "cell_type": "code",
      "source": [
        "# Define features and target variable\n",
        "X_train = df_train.drop('revenue', axis=1)\n",
        "X_val = df_val.drop('revenue', axis=1)\n",
        "X_test = df_test.drop('revenue', axis=1)"
      ],
      "metadata": {
        "id": "C97v7Qm4drpy"
      },
      "execution_count": null,
      "outputs": []
    },
    {
      "cell_type": "code",
      "source": [
        "# Setup the target arrays\n",
        "y_train = df_train.revenue.values\n",
        "y_val = df_val.revenue.values\n",
        "y_test = df_test.revenue.values"
      ],
      "metadata": {
        "id": "bamphmTGmW7k"
      },
      "execution_count": null,
      "outputs": []
    },
    {
      "cell_type": "code",
      "source": [
        "# Convert boolean columns to numerical (True -> 1, False -> 0)\n",
        "bool_columns = X_train.select_dtypes(include='bool').columns\n",
        "for col in bool_columns:\n",
        "  X_train[col] = X_train[col].astype(int)\n",
        "  X_val[col] = X_val[col].astype(int)\n",
        "  X_test[col] = X_test[col].astype(int)\n"
      ],
      "metadata": {
        "id": "OsUH6ct3moPg"
      },
      "execution_count": null,
      "outputs": []
    },
    {
      "cell_type": "code",
      "source": [
        "# Convert categorical columns to numerical using DictVectorizer\n",
        "dv = DictVectorizer(sparse=False)\n",
        "train_dict = X_train.to_dict(orient='records')\n",
        "X_train = dv.fit_transform(train_dict)\n",
        "\n",
        "val_dict = X_val.to_dict(orient='records')\n",
        "X_val = dv.transform(val_dict)\n",
        "\n",
        "test_dict = X_test.to_dict(orient='records')\n",
        "X_test = dv.transform(test_dict)"
      ],
      "metadata": {
        "id": "1AZLuxi4n-C5"
      },
      "execution_count": null,
      "outputs": []
    },
    {
      "cell_type": "markdown",
      "source": [
        "# Exploratory Data Analysis (EDA)"
      ],
      "metadata": {
        "id": "MSsJqiMhCECW"
      }
    },
    {
      "cell_type": "code",
      "source": [
        "# Check for missing values\n",
        "print(df.isnull().sum())"
      ],
      "metadata": {
        "colab": {
          "base_uri": "https://localhost:8080/"
        },
        "id": "GACpzA65CL6N",
        "outputId": "dd7ac4c6-3e9a-484d-c134-7c2a2269fead"
      },
      "execution_count": null,
      "outputs": [
        {
          "output_type": "stream",
          "name": "stdout",
          "text": [
            "administrative             0\n",
            "administrative_duration    0\n",
            "informational              0\n",
            "informational_duration     0\n",
            "productrelated             0\n",
            "productrelated_duration    0\n",
            "bouncerates                0\n",
            "exitrates                  0\n",
            "pagevalues                 0\n",
            "specialday                 0\n",
            "month                      0\n",
            "operatingsystems           0\n",
            "browser                    0\n",
            "region                     0\n",
            "traffictype                0\n",
            "visitortype                0\n",
            "weekend                    0\n",
            "revenue                    0\n",
            "dtype: int64\n"
          ]
        }
      ]
    },
    {
      "cell_type": "code",
      "source": [
        "# Target variable distribution\n",
        "print(df['revenue'].value_counts(normalize=True))\n",
        "sns.countplot(x='revenue', data=df)\n",
        "plt.title('Target Variable Distribution')\n",
        "plt.show()"
      ],
      "metadata": {
        "colab": {
          "base_uri": "https://localhost:8080/",
          "height": 541
        },
        "id": "xgrVdO9VC7PF",
        "outputId": "06ca372e-8388-4ea0-9673-f4f9db238b25"
      },
      "execution_count": null,
      "outputs": [
        {
          "output_type": "stream",
          "name": "stdout",
          "text": [
            "revenue\n",
            "False    0.845255\n",
            "True     0.154745\n",
            "Name: proportion, dtype: float64\n"
          ]
        },
        {
          "output_type": "display_data",
          "data": {
            "text/plain": [
              "<Figure size 640x480 with 1 Axes>"
            ],
            "image/png": "[encoded data removed]"
          },
          "metadata": {}
        }
      ]
    },
    {
      "cell_type": "code",
      "source": [
        "# Correlation heatmap for numerical features\n",
        "numerical_df = df.select_dtypes(include=np.number)\n",
        "plt.figure(figsize=(12, 8))\n",
        "sns.heatmap(numerical_df.corr(), annot=True, cmap='coolwarm', fmt=\".2f\")\n",
        "plt.title('Correlation Heatmap of Numerical Features')\n",
        "plt.show()"
      ],
      "metadata": {
        "colab": {
          "base_uri": "https://localhost:8080/",
          "height": 853
        },
        "id": "w6bBeGJDEYiy",
        "outputId": "2c13b6da-8950-4387-d797-ef2f4c6b4760"
      },
      "execution_count": null,
      "outputs": [
        {
          "output_type": "display_data",
          "data": {
            "text/plain": [
              "<Figure size 1200x800 with 2 Axes>"
            ],
            "image/png": "[encoded data removed]"
          },
          "metadata": {}
        }
      ]
    },
    {
      "cell_type": "code",
      "source": [
        "# Explore relationship between 'pagevalues' and 'revenue'\n",
        "plt.figure(figsize=(8,6))\n",
        "sns.boxplot(x='revenue', y='pagevalues', data=df)\n",
        "plt.title('Page Values vs. Revenue')\n",
        "plt.show()"
      ],
      "metadata": {
        "colab": {
          "base_uri": "https://localhost:8080/",
          "height": 564
        },
        "id": "P7xMTepnFzuj",
        "outputId": "9b723cc2-b789-4129-add8-5865cc401f36"
      },
      "execution_count": null,
      "outputs": [
        {
          "output_type": "display_data",
          "data": {
            "text/plain": [
              "<Figure size 800x600 with 1 Axes>"
            ],
            "image/png": "[encoded data removed]"
          },
          "metadata": {}
        }
      ]
    },
    {
      "cell_type": "code",
      "source": [
        "# Distribution of 'specialday'\n",
        "print(df['specialday'].value_counts(normalize=True))\n",
        "sns.countplot(x='specialday', data=df)\n",
        "plt.title('Distribution of Special Day Closeness')\n",
        "plt.show()"
      ],
      "metadata": {
        "colab": {
          "base_uri": "https://localhost:8080/",
          "height": 611
        },
        "id": "yfoEu0Q7Gdaq",
        "outputId": "cb88dbd9-29a3-471c-db0f-089b3ac0b951"
      },
      "execution_count": null,
      "outputs": [
        {
          "output_type": "stream",
          "name": "stdout",
          "text": [
            "specialday\n",
            "0.0    0.898540\n",
            "0.6    0.028467\n",
            "0.8    0.026358\n",
            "0.4    0.019708\n",
            "0.2    0.014436\n",
            "1.0    0.012490\n",
            "Name: proportion, dtype: float64\n"
          ]
        },
        {
          "output_type": "display_data",
          "data": {
            "text/plain": [
              "<Figure size 640x480 with 1 Axes>"
            ],
            "image/png": "[encoded data removed]"
          },
          "metadata": {}
        }
      ]
    },
    {
      "cell_type": "code",
      "source": [
        "# 'visitor_type' vs. 'revenue'\n",
        "print(df.groupby('visitortype')['revenue'].value_counts(normalize=True))\n",
        "sns.countplot(x='visitortype', hue='revenue', data=df)\n",
        "plt.title('Visitor Type vs. Revenue')\n",
        "plt.show()"
      ],
      "metadata": {
        "colab": {
          "base_uri": "https://localhost:8080/",
          "height": 611
        },
        "id": "YA3EcnUWHqev",
        "outputId": "e7e23fc5-1d8f-4ed8-f9cf-f631a84caac3"
      },
      "execution_count": null,
      "outputs": [
        {
          "output_type": "stream",
          "name": "stdout",
          "text": [
            "visitortype        revenue\n",
            "new_visitor        False      0.750885\n",
            "                   True       0.249115\n",
            "other              False      0.811765\n",
            "                   True       0.188235\n",
            "returning_visitor  False      0.860677\n",
            "                   True       0.139323\n",
            "Name: proportion, dtype: float64\n"
          ]
        },
        {
          "output_type": "display_data",
          "data": {
            "text/plain": [
              "<Figure size 640x480 with 1 Axes>"
            ],
            "image/png": "[encoded data removed]"
          },
          "metadata": {}
        }
      ]
    },
    {
      "cell_type": "markdown",
      "source": [
        "# Model training and tuning"
      ],
      "metadata": {
        "id": "EayuGhnYIsfA"
      }
    },
    {
      "cell_type": "markdown",
      "source": [
        "### Logistic Regression"
      ],
      "metadata": {
        "id": "xQuKViJIIypi"
      }
    },
    {
      "cell_type": "code",
      "source": [
        "lr = LogisticRegression(solver='liblinear', C=1.0, max_iter=1000)\n",
        "lr.fit(X_train, y_train)\n",
        "\n",
        "y_pred_lr = lr.predict_proba(X_val)[:, 1]\n",
        "auc_lr = roc_auc_score(y_val, y_pred_lr)\n",
        "print('Logistic Regression val_auc:', auc_lr)\n"
      ],
      "metadata": {
        "colab": {
          "base_uri": "https://localhost:8080/"
        },
        "id": "iBQMH-bKI7Or",
        "outputId": "d801871a-6b79-4d31-9af5-6b3a42644c5e"
      },
      "execution_count": null,
      "outputs": [
        {
          "output_type": "stream",
          "name": "stdout",
          "text": [
            "Logistic Regression val_auc: 0.9010103255767996\n"
          ]
        }
      ]
    },
    {
      "cell_type": "markdown",
      "source": [
        "### Linear SVM"
      ],
      "metadata": {
        "id": "wHgit1cDKIxa"
      }
    },
    {
      "cell_type": "code",
      "source": [
        "svm = LinearSVC(C=1.0, max_iter=1000, random_state=1)\n",
        "svm.fit(X_train, y_train)\n",
        "\n",
        "y_pred_svm = svm.decision_function(X_val)  # Note: Use decision_function for SVM\n",
        "auc_svm = roc_auc_score(y_val, y_pred_svm)\n",
        "print('Linear SVM val_auc:', auc_svm)"
      ],
      "metadata": {
        "id": "u7MuEKFnKL_j",
        "colab": {
          "base_uri": "https://localhost:8080/"
        },
        "outputId": "f8459637-f64e-4de1-9e87-a59aad83a53e"
      },
      "execution_count": null,
      "outputs": [
        {
          "output_type": "stream",
          "name": "stdout",
          "text": [
            "Linear SVM val_auc: 0.9108270342374389\n"
          ]
        }
      ]
    },
    {
      "cell_type": "markdown",
      "source": [
        "### SGDClassifier"
      ],
      "metadata": {
        "id": "RZjcUvd9h4W6"
      }
    },
    {
      "cell_type": "code",
      "source": [
        "sgd = SGDClassifier(loss='log_loss', penalty='l2', alpha=0.001, max_iter=1000, random_state=1, n_jobs=-1)\n",
        "sgd.fit(X_train, y_train)\n",
        "\n",
        "y_pred_sgd = sgd.predict_proba(X_val)[:, 1]\n",
        "auc_sgd = roc_auc_score(y_val, y_pred_sgd)\n",
        "print('SGDClassifier val_auc:', auc_sgd)"
      ],
      "metadata": {
        "id": "Hq7J-J92h5pO",
        "colab": {
          "base_uri": "https://localhost:8080/"
        },
        "outputId": "bd23b8db-89ba-4623-d160-5def3a2180e1"
      },
      "execution_count": null,
      "outputs": [
        {
          "output_type": "stream",
          "name": "stdout",
          "text": [
            "SGDClassifier val_auc: 0.6283360505903858\n"
          ]
        }
      ]
    },
    {
      "cell_type": "markdown",
      "source": [
        "### Decision trees"
      ],
      "metadata": {
        "id": "NO5QKnB1mFv7"
      }
    },
    {
      "cell_type": "code",
      "source": [
        "scores = []\n",
        "\n",
        "for depth in [4, 5, 6, 10]:\n",
        "    for s in [5, 10, 15, 20, 50, 100, 200]:\n",
        "        dt = DecisionTreeClassifier(max_depth=depth, min_samples_leaf=s)\n",
        "        dt.fit(X_train, y_train)\n",
        "\n",
        "        y_pred = dt.predict_proba(X_val)[:, 1]\n",
        "        auc = roc_auc_score(y_val, y_pred)\n",
        "\n",
        "        scores.append((depth, s, auc))\n",
        "\n",
        "columns = ['max_depth', 'min_samples_leaf', 'auc']\n",
        "df_scores = pd.DataFrame(scores, columns=columns)\n",
        "df_scores_pivot = df_scores.pivot(index='min_samples_leaf', columns=['max_depth'], values=['auc'])\n",
        "sns.heatmap(df_scores_pivot, annot=True, fmt=\".3f\")\n",
        "\n",
        "dt = DecisionTreeClassifier(max_depth=6, min_samples_leaf=15)\n",
        "dt.fit(X_train, y_train)\n",
        "\n",
        "y_pred_dt = dt.predict_proba(X_val)[:, 1]\n",
        "auc_dt = roc_auc_score(y_val, y_pred_dt)\n",
        "print('Decision Tree val_auc:', auc_dt)"
      ],
      "metadata": {
        "id": "SV9IWetCxwOE",
        "colab": {
          "base_uri": "https://localhost:8080/",
          "height": 467
        },
        "outputId": "481d0fad-b3cd-4315-b0bb-33425b714812"
      },
      "execution_count": null,
      "outputs": [
        {
          "output_type": "stream",
          "name": "stdout",
          "text": [
            "Decision Tree val_auc: 0.9222253100143274\n"
          ]
        },
        {
          "output_type": "display_data",
          "data": {
            "text/plain": [
              "<Figure size 640x480 with 2 Axes>"
            ],
            "image/png": "[encoded data removed]"
          },
          "metadata": {}
        }
      ]
    },
    {
      "cell_type": "markdown",
      "source": [
        "### Ensembles and random forest"
      ],
      "metadata": {
        "id": "eJcGn5S52m5b"
      }
    },
    {
      "cell_type": "code",
      "source": [
        "# Find nax_depth\n",
        "scores = []\n",
        "\n",
        "for d in [5, 10, 15]:\n",
        "  for n in range(10, 301, 10):\n",
        "    rf = RandomForestClassifier(n_estimators=n, max_depth=d, random_state=1)\n",
        "    rf.fit(X_train, y_train)\n",
        "\n",
        "    y_pred = rf.predict_proba(X_val)[:, 1]\n",
        "    auc = roc_auc_score(y_val, y_pred)\n",
        "\n",
        "    scores.append((d, n, auc))\n",
        "\n",
        "columns = ['max_depth', 'n_estimators', 'auc']\n",
        "df_scores = pd.DataFrame(scores, columns=columns)\n",
        "\n"
      ],
      "metadata": {
        "id": "6kOOhhS3yuwe"
      },
      "execution_count": null,
      "outputs": []
    },
    {
      "cell_type": "code",
      "source": [
        "average_auc_by_depth = df_scores.groupby('max_depth')['auc'].mean()\n",
        "best_max_depth = average_auc_by_depth.idxmax()\n",
        "best_avg_auc = average_auc_by_depth.max()\n",
        "\n",
        "print(f\"Best max_depth: {best_max_depth} (Average AUC: {best_avg_auc:.4f})\")"
      ],
      "metadata": {
        "id": "ooLbVlmikVqJ",
        "colab": {
          "base_uri": "https://localhost:8080/"
        },
        "outputId": "5242d8e7-2806-4333-e683-69c3e2413109"
      },
      "execution_count": null,
      "outputs": [
        {
          "output_type": "stream",
          "name": "stdout",
          "text": [
            "Best max_depth: 15 (Average AUC: 0.9380)\n"
          ]
        }
      ]
    },
    {
      "cell_type": "code",
      "source": [
        "# Best 'max_depth'\n",
        "max_depth = 15\n",
        "\n",
        "scores = []\n",
        "\n",
        "for s in [1, 3, 5, 10, 50]:\n",
        "    for n in range(10, 301, 10):\n",
        "        rf = RandomForestClassifier(n_estimators=n,\n",
        "                                    max_depth=max_depth,\n",
        "                                    min_samples_leaf=s,\n",
        "                                    random_state=1)\n",
        "        rf.fit(X_train, y_train)\n",
        "\n",
        "        y_pred = rf.predict_proba(X_val)[:, 1]\n",
        "        auc = roc_auc_score(y_val, y_pred)\n",
        "\n",
        "        scores.append((s, n, auc))\n",
        "\n",
        "columns = ['min_samples_leaf', 'n_estimators', 'auc']\n",
        "df_scores = pd.DataFrame(scores, columns=columns)\n",
        "\n",
        "# Find the best combination of min_samples_leaf and n_estimators\n",
        "best_combination = df_scores.loc[df_scores['auc'].idxmax()]\n",
        "\n",
        "best_min_samples_leaf = best_combination['min_samples_leaf']\n",
        "best_n_estimators = best_combination['n_estimators']\n",
        "best_auc = best_combination['auc']\n",
        "\n",
        "print(f\"Best min_samples_leaf: {best_min_samples_leaf}\")\n",
        "print(f\"Best n_estimators: {best_n_estimators}\")\n",
        "print(f\"Best AUC: {best_auc:.4f}\")"
      ],
      "metadata": {
        "id": "ndMtQi8Ew7Is",
        "colab": {
          "base_uri": "https://localhost:8080/"
        },
        "outputId": "121feb1f-2fd4-44b9-dac5-c0c455e3ca41"
      },
      "execution_count": null,
      "outputs": [
        {
          "output_type": "stream",
          "name": "stdout",
          "text": [
            "Best min_samples_leaf: 3.0\n",
            "Best n_estimators: 150.0\n",
            "Best AUC: 0.9401\n"
          ]
        }
      ]
    },
    {
      "cell_type": "code",
      "source": [
        "# Best 'min_samples_leaf' and 'n_estimators'\n",
        "min_samples_leaf = 3\n",
        "n_estimators = 150\n",
        "\n",
        "rf = RandomForestClassifier(n_estimators=n_estimators,\n",
        "                            max_depth=max_depth,\n",
        "                            min_samples_leaf=min_samples_leaf,\n",
        "                            random_state=1)\n",
        "rf.fit(X_train, y_train)\n",
        "\n",
        "y_pred_rf = rf.predict_proba(X_val)[:, 1]\n",
        "auc_rf = roc_auc_score(y_val, y_pred_rf)\n",
        "print('Random Forest val_auc:', auc_rf)"
      ],
      "metadata": {
        "id": "vcAw-SSv4Ehb",
        "colab": {
          "base_uri": "https://localhost:8080/"
        },
        "outputId": "0a90d525-8b5b-4b0f-df88-597523f6208a"
      },
      "execution_count": null,
      "outputs": [
        {
          "output_type": "stream",
          "name": "stdout",
          "text": [
            "Random Forest val_auc: 0.9400832468751544\n"
          ]
        }
      ]
    },
    {
      "cell_type": "markdown",
      "source": [
        "### XGBoost (eXtreme Gradient Boosting)"
      ],
      "metadata": {
        "id": "csqBijSo-c18"
      }
    },
    {
      "cell_type": "code",
      "source": [
        "features = dv.get_feature_names_out()\n",
        "features = list(features)\n",
        "\n",
        "dtrain = xgb.DMatrix(X_train, label=y_train, feature_names=features)\n",
        "dval = xgb.DMatrix(X_val, label=y_val, feature_names=features)\n",
        "\n",
        "def parse_xgb_output(output):\n",
        "    results = []\n",
        "\n",
        "    for line in output.stdout.strip().split('\\n'):\n",
        "        it_line, train_line, val_line = line.split('\\t')\n",
        "\n",
        "        it = int(it_line.strip('[]'))\n",
        "        train = float(train_line.split(':')[1])\n",
        "        val = float(val_line.split(':')[1])\n",
        "\n",
        "        results.append((it, train, val))\n",
        "\n",
        "    columns = ['num_iter', 'train_auc', 'val_auc']\n",
        "    df_results = pd.DataFrame(results, columns=columns)\n",
        "    return df_results\n",
        "\n",
        "watchlist = [(dtrain, 'train'), (dval, 'val')]"
      ],
      "metadata": {
        "id": "lAIsOytIBrkZ"
      },
      "execution_count": null,
      "outputs": []
    },
    {
      "cell_type": "code",
      "source": [
        "# # Tuning max_depth\n",
        "# scores = {}  # Initialize scores dictionary"
      ],
      "metadata": {
        "id": "r2K63t3jlHlD"
      },
      "execution_count": null,
      "outputs": []
    },
    {
      "cell_type": "code",
      "source": [
        "# %%capture output\n",
        "# xgb_params = {\n",
        "#     'eta': 0.3,\n",
        "#     'max_depth': 2,  # Start with max_depth=2\n",
        "#     'min_child_weight': 1,\n",
        "#     'objective': 'binary:logistic',\n",
        "#     'eval_metric': 'auc',\n",
        "#     'nthread': 8,\n",
        "#     'seed': 1,\n",
        "#     'verbosity': 1,\n",
        "# }\n",
        "\n",
        "# model = xgb.train(xgb_params, dtrain, num_boost_round=200,\n",
        "#                   verbose_eval=5,\n",
        "#                   evals=watchlist)\n",
        "\n",
        "# # Parse output directly after training\n",
        "# key = 'max_depth=%s' % (xgb_params['max_depth'])\n",
        "# scores[key] = parse_xgb_output(output)\n",
        "\n"
      ],
      "metadata": {
        "id": "xAJJH8FFjcdi"
      },
      "execution_count": null,
      "outputs": []
    },
    {
      "cell_type": "code",
      "source": [
        "scores"
      ],
      "metadata": {
        "colab": {
          "base_uri": "https://localhost:8080/"
        },
        "id": "iTlAuRMMlRVx",
        "outputId": "e0f08881-49b1-4968-c937-dc2871f67c7e"
      },
      "execution_count": null,
      "outputs": [
        {
          "output_type": "execute_result",
          "data": {
            "text/plain": [
              "[(1, 10, 0.9190597055481449),\n",
              " (1, 20, 0.9326669877970457),\n",
              " (1, 30, 0.934742601650116),\n",
              " (1, 40, 0.9364235956721506),\n",
              " (1, 50, 0.9370695617805445),\n",
              " (1, 60, 0.9367255817400326),\n",
              " (1, 70, 0.9375438466478929),\n",
              " (1, 80, 0.9378872091299837),\n",
              " (1, 90, 0.9383509955041747),\n",
              " (1, 100, 0.9388666567857319),\n",
              " (1, 110, 0.9383281458425966),\n",
              " (1, 120, 0.9389247072773085),\n",
              " (1, 130, 0.9395262091793883),\n",
              " (1, 140, 0.9399053900498987),\n",
              " (1, 150, 0.9394595128699175),\n",
              " (1, 160, 0.9392013734499283),\n",
              " (1, 170, 0.9394866854404427),\n",
              " (1, 180, 0.9392087841509806),\n",
              " (1, 190, 0.9392458376562421),\n",
              " (1, 200, 0.9393681142236056),\n",
              " (1, 210, 0.939377995158342),\n",
              " (1, 220, 0.9395348549972827),\n",
              " (1, 230, 0.9396917148362236),\n",
              " (1, 240, 0.9397596462625365),\n",
              " (1, 250, 0.9394965663751791),\n",
              " (1, 260, 0.9395472061657033),\n",
              " (1, 270, 0.9399473840225285),\n",
              " (1, 280, 0.9399239168025295),\n",
              " (1, 290, 0.9400140803319995),\n",
              " (1, 300, 0.9398312830393756),\n",
              " (3, 10, 0.9219264117385505),\n",
              " (3, 20, 0.9331882071043921),\n",
              " (3, 30, 0.9337162195543698),\n",
              " (3, 40, 0.9354960229237687),\n",
              " (3, 50, 0.9376352452942048),\n",
              " (3, 60, 0.9381218813299739),\n",
              " (3, 70, 0.9388851835383627),\n",
              " (3, 80, 0.9391976680994021),\n",
              " (3, 90, 0.939287831628872),\n",
              " (3, 100, 0.9395472061657032),\n",
              " (3, 110, 0.9397053011214861),\n",
              " (3, 120, 0.9400758361741022),\n",
              " (3, 130, 0.9398584556099008),\n",
              " (3, 140, 0.9400202559162096),\n",
              " (3, 150, 0.9400832468751544),\n",
              " (3, 160, 0.9394409861172868),\n",
              " (3, 170, 0.9396225482930685),\n",
              " (3, 180, 0.9396410750456994),\n",
              " (3, 190, 0.9394730991551802),\n",
              " (3, 200, 0.9393001827972925),\n",
              " (3, 210, 0.9391964329825602),\n",
              " (3, 220, 0.9391630848278246),\n",
              " (3, 230, 0.9390222815078305),\n",
              " (3, 240, 0.9389864631194109),\n",
              " (3, 250, 0.9391124450373006),\n",
              " (3, 260, 0.939282891161504),\n",
              " (3, 270, 0.939260659058347),\n",
              " (3, 280, 0.9393915814436046),\n",
              " (3, 290, 0.939633664344647),\n",
              " (3, 300, 0.9396089620078059),\n",
              " (5, 10, 0.9263141643199448),\n",
              " (5, 20, 0.9329442715280867),\n",
              " (5, 30, 0.9354441480164024),\n",
              " (5, 40, 0.9359925398942741),\n",
              " (5, 50, 0.9369052912405513),\n",
              " (5, 60, 0.9369522256805495),\n",
              " (5, 70, 0.9371313176226471),\n",
              " (5, 80, 0.9378106318857764),\n",
              " (5, 90, 0.9373635195889531),\n",
              " (5, 100, 0.9381614050689194),\n",
              " (5, 110, 0.9383355565436491),\n",
              " (5, 120, 0.9385232943036411),\n",
              " (5, 130, 0.9384244849562768),\n",
              " (5, 140, 0.9383195000247024),\n",
              " (5, 150, 0.9383318511931228),\n",
              " (5, 160, 0.9383330863099649),\n",
              " (5, 170, 0.9385307050046934),\n",
              " (5, 180, 0.9387097969467911),\n",
              " (5, 190, 0.9386616273899511),\n",
              " (5, 200, 0.9385479966404822),\n",
              " (5, 210, 0.9387814337236302),\n",
              " (5, 220, 0.9390037547551997),\n",
              " (5, 230, 0.9389827577688848),\n",
              " (5, 240, 0.9392075490341386),\n",
              " (5, 250, 0.9392013734499283),\n",
              " (5, 260, 0.9392124895015068),\n",
              " (5, 270, 0.9391470283088781),\n",
              " (5, 280, 0.939008695222568),\n",
              " (5, 290, 0.9392199002025592),\n",
              " (5, 300, 0.9391803764636135),\n",
              " (10, 10, 0.9319364161849711),\n",
              " (10, 20, 0.9350279136406303),\n",
              " (10, 30, 0.9348920507880046),\n",
              " (10, 40, 0.9363186107405761),\n",
              " (10, 50, 0.9362568548984733),\n",
              " (10, 60, 0.9364112445037301),\n",
              " (10, 70, 0.9366385060026677),\n",
              " (10, 80, 0.9373005286300085),\n",
              " (10, 90, 0.9375611382836816),\n",
              " (10, 100, 0.9379786077762957),\n",
              " (10, 110, 0.9386171631836371),\n",
              " (10, 120, 0.9391976680994022),\n",
              " (10, 130, 0.93910009386888),\n",
              " (10, 140, 0.9393162393162393),\n",
              " (10, 150, 0.9391210908551949),\n",
              " (10, 160, 0.9388740674867841),\n",
              " (10, 170, 0.9389234721604663),\n",
              " (10, 180, 0.9389148263425721),\n",
              " (10, 190, 0.938982757768885),\n",
              " (10, 200, 0.9387604367373154),\n",
              " (10, 210, 0.9386616273899511),\n",
              " (10, 220, 0.9385282347710093),\n",
              " (10, 230, 0.9383713749320687),\n",
              " (10, 240, 0.9384788300973271),\n",
              " (10, 250, 0.9384652438120645),\n",
              " (10, 260, 0.9385158836025888),\n",
              " (10, 270, 0.9385010622004841),\n",
              " (10, 280, 0.9385282347710093),\n",
              " (10, 290, 0.9386270441183736),\n",
              " (10, 300, 0.9385134133689046),\n",
              " (50, 10, 0.9319858208586532),\n",
              " (50, 20, 0.9352107109332544),\n",
              " (50, 30, 0.9320068178449682),\n",
              " (50, 40, 0.9314559557334123),\n",
              " (50, 50, 0.9315535299639345),\n",
              " (50, 60, 0.9314769527197273),\n",
              " (50, 70, 0.9308729805839633),\n",
              " (50, 80, 0.9309964922681686),\n",
              " (50, 90, 0.9310965367323749),\n",
              " (50, 100, 0.9320648683365447),\n",
              " (50, 110, 0.9323477100933748),\n",
              " (50, 120, 0.9321636776839088),\n",
              " (50, 130, 0.9326206709154686),\n",
              " (50, 140, 0.9323884689491625),\n",
              " (50, 150, 0.9321488562818043),\n",
              " (50, 160, 0.9322476656291684),\n",
              " (50, 170, 0.9322674274986413),\n",
              " (50, 180, 0.9322427251618003),\n",
              " (50, 190, 0.9322970703028507),\n",
              " (50, 200, 0.9323242428733758),\n",
              " (50, 210, 0.9324588706091597),\n",
              " (50, 220, 0.9322748381996937),\n",
              " (50, 230, 0.9322377846944322),\n",
              " (50, 240, 0.9323007756533768),\n",
              " (50, 250, 0.9322810137839038),\n",
              " (50, 260, 0.9322451953954844),\n",
              " (50, 270, 0.932120448594437),\n",
              " (50, 280, 0.9320846302060175),\n",
              " (50, 290, 0.9322266686428535),\n",
              " (50, 300, 0.9320821599723333)]"
            ]
          },
          "metadata": {},
          "execution_count": 136
        }
      ]
    },
    {
      "cell_type": "code",
      "source": [
        "# %%capture output\n",
        "\n",
        "# xgb_params = {\n",
        "# 'eta': 0.3,\n",
        "# 'max_depth': 4,\n",
        "# 'min_child_weight': 1,\n",
        "\n",
        "# 'objective': 'binary:logistic',\n",
        "# 'eval_metric': 'auc',\n",
        "\n",
        "# 'nthread': 8,\n",
        "# 'seed': 1,\n",
        "# 'verbosity': 1,\n",
        "# }\n",
        "\n",
        "# model = xgb.train(xgb_params, dtrain, num_boost_round=200,\n",
        "#                 verbose_eval=5,\n",
        "#                 evals=watchlist)\n",
        "\n",
        "# key = 'max_depth=%s' % (xgb_params['max_depth'])\n",
        "# scores[key] = parse_xgb_output(output)"
      ],
      "metadata": {
        "id": "INuYjsp3nVnd"
      },
      "execution_count": null,
      "outputs": []
    },
    {
      "cell_type": "code",
      "source": [
        "# %%capture output\n",
        "\n",
        "# xgb_params = {\n",
        "# 'eta': 0.3,\n",
        "# 'max_depth': 8,\n",
        "# 'min_child_weight': 1,\n",
        "\n",
        "# 'objective': 'binary:logistic',\n",
        "# 'eval_metric': 'auc',\n",
        "\n",
        "# 'nthread': 8,\n",
        "# 'seed': 1,\n",
        "# 'verbosity': 1,\n",
        "# }\n",
        "\n",
        "# model = xgb.train(xgb_params, dtrain, num_boost_round=200,\n",
        "#                 verbose_eval=5,\n",
        "#                 evals=watchlist)\n",
        "\n",
        "# key = 'max_depth=%s' % (xgb_params['max_depth'])\n",
        "# scores[key] = parse_xgb_output(output)"
      ],
      "metadata": {
        "id": "5WrBQHrun8fJ"
      },
      "execution_count": null,
      "outputs": []
    },
    {
      "cell_type": "code",
      "source": [
        "# %%capture output\n",
        "\n",
        "# xgb_params = {\n",
        "# 'eta': 0.3,\n",
        "# 'max_depth': 10,\n",
        "# 'min_child_weight': 1,\n",
        "\n",
        "# 'objective': 'binary:logistic',\n",
        "# 'eval_metric': 'auc',\n",
        "\n",
        "# 'nthread': 8,\n",
        "# 'seed': 1,\n",
        "# 'verbosity': 1,\n",
        "# }\n",
        "\n",
        "# model = xgb.train(xgb_params, dtrain, num_boost_round=200,\n",
        "#                 verbose_eval=5,\n",
        "#                 evals=watchlist)\n",
        "\n",
        "# key = 'max_depth=%s' % (xgb_params['max_depth'])\n",
        "# scores[key] = parse_xgb_output(output)"
      ],
      "metadata": {
        "id": "AWIDuA5MpAma"
      },
      "execution_count": null,
      "outputs": []
    },
    {
      "cell_type": "code",
      "source": [
        "# # Plot for visializing\n",
        "\n",
        "# for max_depth, df_score in scores.items():\n",
        "#   plt.plot(df_score.num_iter, df_score.val_auc, label=max_depth)\n",
        "# plt.legend()"
      ],
      "metadata": {
        "id": "KqSebZ5mpIyY"
      },
      "execution_count": null,
      "outputs": []
    },
    {
      "cell_type": "code",
      "source": [
        "# # Best 'max_depth'\n",
        "# max_depth = 4"
      ],
      "metadata": {
        "id": "EcJEuZMAp1XZ"
      },
      "execution_count": null,
      "outputs": []
    },
    {
      "cell_type": "code",
      "source": [
        "# # #### Tuning 'eta'\n",
        "\n",
        "# scores = {}"
      ],
      "metadata": {
        "id": "4f4wdu6A8mq9"
      },
      "execution_count": null,
      "outputs": []
    },
    {
      "cell_type": "code",
      "source": [
        "# %%capture output\n",
        "\n",
        "# xgb_params = {\n",
        "#     'eta': 0.3,\n",
        "#     'max_depth': 4,\n",
        "#     'min_child_weight': 1,\n",
        "\n",
        "#     'objective': 'binary:logistic',\n",
        "#     'eval_metric': 'auc',\n",
        "\n",
        "#     'nthread': 8,\n",
        "#     'seed': 1,\n",
        "#     'verbosity': 1,\n",
        "# }\n",
        "\n",
        "# model = xgb.train(xgb_params, dtrain, num_boost_round=200,\n",
        "#                   verbose_eval=5,\n",
        "#                   evals=watchlist)\n",
        "\n",
        "# key = 'eta=%s' % (xgb_params['eta'])\n",
        "# scores[key] = parse_xgb_output(output)"
      ],
      "metadata": {
        "id": "o7CnyNsa9G2_"
      },
      "execution_count": null,
      "outputs": []
    },
    {
      "cell_type": "code",
      "source": [
        "# %%capture output\n",
        "\n",
        "# xgb_params = {\n",
        "#     'eta': 0.1,\n",
        "#     'max_depth': 4,\n",
        "#     'min_child_weight': 1,\n",
        "\n",
        "#     'objective': 'binary:logistic',\n",
        "#     'eval_metric': 'auc',\n",
        "\n",
        "#     'nthread': 8,\n",
        "#     'seed': 1,\n",
        "#     'verbosity': 1,\n",
        "# }\n",
        "\n",
        "# model = xgb.train(xgb_params, dtrain, num_boost_round=200,\n",
        "#                   verbose_eval=5,\n",
        "#                   evals=watchlist)\n",
        "\n",
        "# key = 'eta=%s' % (xgb_params['eta'])\n",
        "# scores[key] = parse_xgb_output(output)"
      ],
      "metadata": {
        "id": "dt1PvRgq9OGT"
      },
      "execution_count": null,
      "outputs": []
    },
    {
      "cell_type": "code",
      "source": [
        "# %%capture output\n",
        "\n",
        "# xgb_params = {\n",
        "#     'eta': 0.05,\n",
        "#     'max_depth': 4,\n",
        "#     'min_child_weight': 1,\n",
        "\n",
        "#     'objective': 'binary:logistic',\n",
        "#     'eval_metric': 'auc',\n",
        "\n",
        "#     'nthread': 8,\n",
        "#     'seed': 1,\n",
        "#     'verbosity': 1,\n",
        "# }\n",
        "\n",
        "# model = xgb.train(xgb_params, dtrain, num_boost_round=200,\n",
        "#                   verbose_eval=5,\n",
        "#                   evals=watchlist)\n",
        "\n",
        "# key = 'eta=%s' % (xgb_params['eta'])\n",
        "# scores[key] = parse_xgb_output(output)"
      ],
      "metadata": {
        "id": "8F9xvlXB9Z_5"
      },
      "execution_count": null,
      "outputs": []
    },
    {
      "cell_type": "code",
      "source": [
        "# %%capture output\n",
        "\n",
        "# xgb_params = {\n",
        "#     'eta': 0.01,\n",
        "#     'max_depth': 4,\n",
        "#     'min_child_weight': 1,\n",
        "\n",
        "#     'objective': 'binary:logistic',\n",
        "#     'eval_metric': 'auc',\n",
        "\n",
        "#     'nthread': 8,\n",
        "#     'seed': 1,\n",
        "#     'verbosity': 1,\n",
        "# }\n",
        "\n",
        "# model = xgb.train(xgb_params, dtrain, num_boost_round=200,\n",
        "#                   verbose_eval=5,\n",
        "#                   evals=watchlist)\n",
        "\n",
        "# key = 'eta=%s' % (xgb_params['eta'])\n",
        "# scores[key] = parse_xgb_output(output)"
      ],
      "metadata": {
        "id": "NbY04fxm9grE"
      },
      "execution_count": null,
      "outputs": []
    },
    {
      "cell_type": "code",
      "source": [
        "# for eta, df_score in scores.items():\n",
        "#     plt.plot(df_score.num_iter, df_score.val_auc, label=eta)\n",
        "\n",
        "\n",
        "# plt.legend()"
      ],
      "metadata": {
        "id": "UwajnQJf9lY9"
      },
      "execution_count": null,
      "outputs": []
    },
    {
      "cell_type": "code",
      "source": [
        "# # Eta all near 0.935 so we take 0.01\n",
        "# eta = 0.1"
      ],
      "metadata": {
        "id": "w6c_JuiQ9w0N"
      },
      "execution_count": null,
      "outputs": []
    },
    {
      "cell_type": "code",
      "source": [
        "# # Tuning 'min_child_weight'\n",
        "# scores = {}"
      ],
      "metadata": {
        "id": "OwYS1Mnu9_vd"
      },
      "execution_count": null,
      "outputs": []
    },
    {
      "cell_type": "code",
      "source": [
        "# %%capture output\n",
        "\n",
        "# xgb_params = {\n",
        "#     'eta': 0.1,\n",
        "#     'max_depth': 4,\n",
        "#     'min_child_weight': 1,\n",
        "\n",
        "#     'objective': 'binary:logistic',\n",
        "#     'eval_metric': 'auc',\n",
        "\n",
        "#     'nthread': 8,\n",
        "#     'seed': 1,\n",
        "#     'verbosity': 1,\n",
        "# }\n",
        "# model = xgb.train(xgb_params, dtrain, num_boost_round=200,\n",
        "#                   verbose_eval=5,\n",
        "#                   evals=watchlist)\n",
        "\n",
        "# key = 'min_child_weight=%s' % (xgb_params['min_child_weight'])\n",
        "# scores[key] = parse_xgb_output(output)"
      ],
      "metadata": {
        "id": "6S9mwFtO-Fsd"
      },
      "execution_count": null,
      "outputs": []
    },
    {
      "cell_type": "code",
      "source": [
        "# %%capture output\n",
        "\n",
        "# xgb_params = {\n",
        "#     'eta': 0.1,\n",
        "#     'max_depth': 4,\n",
        "#     'min_child_weight': 5,\n",
        "\n",
        "#     'objective': 'binary:logistic',\n",
        "#     'eval_metric': 'auc',\n",
        "\n",
        "#     'nthread': 8,\n",
        "#     'seed': 1,\n",
        "#     'verbosity': 1,\n",
        "# }\n",
        "\n",
        "# model = xgb.train(xgb_params, dtrain, num_boost_round=200,\n",
        "#                   verbose_eval=5,\n",
        "#                   evals=watchlist)\n",
        "\n",
        "# key = 'min_child_weight=%s' % (xgb_params['min_child_weight'])\n",
        "# scores[key] = parse_xgb_output(output)"
      ],
      "metadata": {
        "id": "ikRnODE7AQZO"
      },
      "execution_count": null,
      "outputs": []
    },
    {
      "cell_type": "code",
      "source": [
        "# %%capture output\n",
        "\n",
        "# xgb_params = {\n",
        "#     'eta': 0.1,\n",
        "#     'max_depth': 4,\n",
        "#     'min_child_weight': 10,\n",
        "\n",
        "#     'objective': 'binary:logistic',\n",
        "#     'eval_metric': 'auc',\n",
        "\n",
        "#     'nthread': 8,\n",
        "#     'seed': 1,\n",
        "#     'verbosity': 1,\n",
        "# }\n",
        "\n",
        "# model = xgb.train(xgb_params, dtrain, num_boost_round=200,\n",
        "#                   verbose_eval=5,\n",
        "#                   evals=watchlist)\n",
        "\n",
        "# key = 'min_child_weight=%s' % (xgb_params['min_child_weight'])\n",
        "# scores[key] = parse_xgb_output(output)"
      ],
      "metadata": {
        "id": "5T2xmG80Algo"
      },
      "execution_count": null,
      "outputs": []
    },
    {
      "cell_type": "code",
      "source": [
        "# %%capture output\n",
        "\n",
        "# xgb_params = {\n",
        "#     'eta': 0.1,\n",
        "#     'max_depth': 4,\n",
        "#     'min_child_weight': 20,\n",
        "\n",
        "#     'objective': 'binary:logistic',\n",
        "#     'eval_metric': 'auc',\n",
        "\n",
        "#     'nthread': 8,\n",
        "#     'seed': 1,\n",
        "#     'verbosity': 1,\n",
        "# }\n",
        "\n",
        "# model = xgb.train(xgb_params, dtrain, num_boost_round=200,\n",
        "#                   verbose_eval=5,\n",
        "#                   evals=watchlist)\n",
        "\n",
        "# key = 'min_child_weight=%s' % (xgb_params['min_child_weight'])\n",
        "# scores[key] = parse_xgb_output(output)"
      ],
      "metadata": {
        "id": "4kApZCVmArv_"
      },
      "execution_count": null,
      "outputs": []
    },
    {
      "cell_type": "code",
      "source": [
        "# for min_child_weight, df_score in scores.items():\n",
        "#     plt.plot(df_score.num_iter, df_score.val_auc, label=min_child_weight)\n",
        "\n",
        "\n",
        "# plt.legend()"
      ],
      "metadata": {
        "id": "GRBwhN52AxHP"
      },
      "execution_count": null,
      "outputs": []
    },
    {
      "cell_type": "code",
      "source": [
        "# # Best 'min_child_weight'\n",
        "# min_child_weight = 10"
      ],
      "metadata": {
        "id": "ZlDODBQWBG0Z"
      },
      "execution_count": null,
      "outputs": []
    },
    {
      "cell_type": "code",
      "source": [
        "# Final model (was taken 3 after additional analysis)\n",
        "xgb_params = {\n",
        "    'eta': 0.1,\n",
        "    'max_depth': 3,\n",
        "    'min_child_weight': 10,\n",
        "\n",
        "    'objective': 'binary:logistic',\n",
        "    'eval_metric': 'auc',\n",
        "\n",
        "    'nthread': 8,\n",
        "    'seed': 1,\n",
        "    'verbosity': 1,\n",
        "}\n",
        "\n",
        "model_xgb = xgb.train(xgb_params, dtrain, num_boost_round=200)\n",
        "\n",
        "y_pred_xgb = model_xgb.predict(dval)\n",
        "auc_xgb = roc_auc_score(y_val, y_pred_xgb)\n",
        "print('XGBoost val_auc:', auc_xgb)\n"
      ],
      "metadata": {
        "colab": {
          "base_uri": "https://localhost:8080/"
        },
        "id": "QQ2YkzKaBQ9t",
        "outputId": "c42688f9-c574-4270-8425-a81ac7aad465"
      },
      "execution_count": null,
      "outputs": [
        {
          "output_type": "stream",
          "name": "stdout",
          "text": [
            "XGBoost val_auc: 0.9411812657477399\n"
          ]
        }
      ]
    },
    {
      "cell_type": "markdown",
      "source": [
        "### Selecting the final model"
      ],
      "metadata": {
        "id": "83uG9TuIBwg_"
      }
    },
    {
      "cell_type": "code",
      "source": [
        "# Evaluate all models\n",
        "print('Decision Tree val_auc:', auc_dt)\n",
        "print('Random Forest val_auc:', auc_rf)\n",
        "print('Logistic Regression val_auc:', auc_lr)\n",
        "print('Linear SVM val_auc:', auc_svm)\n",
        "print('SGDClassifier val_auc:', auc_sgd)\n",
        "print('XGBoost val_auc:', auc_xgb)"
      ],
      "metadata": {
        "colab": {
          "base_uri": "https://localhost:8080/"
        },
        "id": "EdW5dHfVBtQX",
        "outputId": "92ed26e5-ab2e-4271-8802-9380275e893a"
      },
      "execution_count": null,
      "outputs": [
        {
          "output_type": "stream",
          "name": "stdout",
          "text": [
            "Decision Tree val_auc: 0.9222253100143274\n",
            "Random Forest val_auc: 0.9400832468751544\n",
            "Logistic Regression val_auc: 0.9010103255767996\n",
            "Linear SVM val_auc: 0.9108270342374389\n",
            "SGDClassifier val_auc: 0.6283360505903858\n",
            "XGBoost val_auc: 0.9411812657477399\n"
          ]
        }
      ]
    },
    {
      "cell_type": "markdown",
      "source": [
        "### Best model: XGBoost"
      ],
      "metadata": {
        "id": "n9wXXeDGFQr4"
      }
    },
    {
      "cell_type": "code",
      "source": [
        "df_train_full = df_train_full.reset_index(drop=True)\n",
        "X_train_full = df_train_full.drop('revenue', axis=1)\n",
        "y_train_full = df_train_full.revenue.values\n",
        "\n",
        "# Convert boolean columns to numerical (True -> 1, False -> 0)\n",
        "bool_columns = X_train_full.select_dtypes(include='bool').columns\n",
        "for col in bool_columns:\n",
        "    X_train_full[col] = X_train_full[col].astype(int)\n",
        "\n",
        "# Apply DictVectorizer to X_train_full\n",
        "dv = DictVectorizer(sparse=False)\n",
        "train_full_dict = X_train_full.to_dict(orient='records')\n",
        "X_train_full = dv.fit_transform(train_full_dict)\n",
        "\n",
        "# Retrain XGBoost on the full training dataset\n",
        "features = dv.get_feature_names_out().tolist()\n",
        "dfulltrain = xgb.DMatrix(X_train_full, label=y_train_full, feature_names=features)\n",
        "\n",
        "dtest = xgb.DMatrix(X_test, feature_names=features)\n",
        "\n",
        "xgb_params = {\n",
        "    'eta': 0.1,\n",
        "    'max_depth': 3,\n",
        "    'min_child_weight': 10,\n",
        "\n",
        "    'objective': 'binary:logistic',\n",
        "    'eval_metric': 'auc',\n",
        "\n",
        "    'nthread': 8,\n",
        "    'seed': 1,\n",
        "    'verbosity': 1,\n",
        "}\n",
        "\n",
        "final_model = xgb.train(xgb_params, dfulltrain, num_boost_round=200)\n",
        "\n",
        "# Evaluate on the test set\n",
        "y_pred_final = final_model.predict(dtest)\n",
        "auc_final = roc_auc_score(y_test, y_pred_final)\n",
        "print('Test_auc:', auc_final)"
      ],
      "metadata": {
        "colab": {
          "base_uri": "https://localhost:8080/"
        },
        "id": "WYedyBKoFilf",
        "outputId": "d79db671-5297-4870-bd9f-d202c7c6681b"
      },
      "execution_count": null,
      "outputs": [
        {
          "output_type": "stream",
          "name": "stdout",
          "text": [
            "Test_auc: 0.9349524829430267\n"
          ]
        }
      ]
    }
  ]
}